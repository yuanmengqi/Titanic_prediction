{
 "cells": [
  {
   "cell_type": "markdown",
   "metadata": {},
   "source": [
    "# Titanic"
   ]
  },
  {
   "cell_type": "code",
   "execution_count": 251,
   "metadata": {},
   "outputs": [],
   "source": [
    "import numpy as np # linear algebra\n",
    "import pandas as pd # CSV file I/O\n",
    "import matplotlib.pyplot as plt\n",
    "from sklearn.ensemble import RandomForestClassifier\n",
    "from sklearn.feature_selection import VarianceThreshold\n",
    "import torch\n",
    "import torch.nn as nn\n",
    "import torch.nn.functional as F"
   ]
  },
  {
   "cell_type": "markdown",
   "metadata": {},
   "source": [
    "## Ⅰ 数据采集及存储"
   ]
  },
  {
   "cell_type": "code",
   "execution_count": 252,
   "metadata": {},
   "outputs": [
    {
     "data": {
      "text/html": [
       "<div>\n",
       "<style scoped>\n",
       "    .dataframe tbody tr th:only-of-type {\n",
       "        vertical-align: middle;\n",
       "    }\n",
       "\n",
       "    .dataframe tbody tr th {\n",
       "        vertical-align: top;\n",
       "    }\n",
       "\n",
       "    .dataframe thead th {\n",
       "        text-align: right;\n",
       "    }\n",
       "</style>\n",
       "<table border=\"1\" class=\"dataframe\">\n",
       "  <thead>\n",
       "    <tr style=\"text-align: right;\">\n",
       "      <th></th>\n",
       "      <th>PassengerId</th>\n",
       "      <th>Survived</th>\n",
       "      <th>Pclass</th>\n",
       "      <th>Name</th>\n",
       "      <th>Sex</th>\n",
       "      <th>Age</th>\n",
       "      <th>SibSp</th>\n",
       "      <th>Parch</th>\n",
       "      <th>Ticket</th>\n",
       "      <th>Fare</th>\n",
       "      <th>Cabin</th>\n",
       "      <th>Embarked</th>\n",
       "    </tr>\n",
       "  </thead>\n",
       "  <tbody>\n",
       "    <tr>\n",
       "      <th>0</th>\n",
       "      <td>1</td>\n",
       "      <td>0</td>\n",
       "      <td>3</td>\n",
       "      <td>Braund, Mr. Owen Harris</td>\n",
       "      <td>male</td>\n",
       "      <td>22.0</td>\n",
       "      <td>1</td>\n",
       "      <td>0</td>\n",
       "      <td>A/5 21171</td>\n",
       "      <td>7.25</td>\n",
       "      <td>NaN</td>\n",
       "      <td>S</td>\n",
       "    </tr>\n",
       "  </tbody>\n",
       "</table>\n",
       "</div>"
      ],
      "text/plain": [
       "   PassengerId  Survived  Pclass                     Name   Sex   Age  SibSp  \\\n",
       "0            1         0       3  Braund, Mr. Owen Harris  male  22.0      1   \n",
       "\n",
       "   Parch     Ticket  Fare Cabin Embarked  \n",
       "0      0  A/5 21171  7.25   NaN        S  "
      ]
     },
     "execution_count": 252,
     "metadata": {},
     "output_type": "execute_result"
    }
   ],
   "source": [
    "train_data = pd.read_csv(\"data/train.csv\")\n",
    "test_data = pd.read_csv(\"data/test.csv\")\n",
    "train_data.head(1)"
   ]
  },
  {
   "cell_type": "code",
   "execution_count": 253,
   "metadata": {},
   "outputs": [
    {
     "data": {
      "text/html": [
       "<div>\n",
       "<style scoped>\n",
       "    .dataframe tbody tr th:only-of-type {\n",
       "        vertical-align: middle;\n",
       "    }\n",
       "\n",
       "    .dataframe tbody tr th {\n",
       "        vertical-align: top;\n",
       "    }\n",
       "\n",
       "    .dataframe thead th {\n",
       "        text-align: right;\n",
       "    }\n",
       "</style>\n",
       "<table border=\"1\" class=\"dataframe\">\n",
       "  <thead>\n",
       "    <tr style=\"text-align: right;\">\n",
       "      <th></th>\n",
       "      <th>PassengerId</th>\n",
       "      <th>Survived</th>\n",
       "      <th>Pclass</th>\n",
       "      <th>Age</th>\n",
       "      <th>SibSp</th>\n",
       "      <th>Parch</th>\n",
       "      <th>Fare</th>\n",
       "    </tr>\n",
       "  </thead>\n",
       "  <tbody>\n",
       "    <tr>\n",
       "      <th>count</th>\n",
       "      <td>891.000000</td>\n",
       "      <td>891.000000</td>\n",
       "      <td>891.000000</td>\n",
       "      <td>714.000000</td>\n",
       "      <td>891.000000</td>\n",
       "      <td>891.000000</td>\n",
       "      <td>891.000000</td>\n",
       "    </tr>\n",
       "    <tr>\n",
       "      <th>mean</th>\n",
       "      <td>446.000000</td>\n",
       "      <td>0.383838</td>\n",
       "      <td>2.308642</td>\n",
       "      <td>29.699118</td>\n",
       "      <td>0.523008</td>\n",
       "      <td>0.381594</td>\n",
       "      <td>32.204208</td>\n",
       "    </tr>\n",
       "    <tr>\n",
       "      <th>std</th>\n",
       "      <td>257.353842</td>\n",
       "      <td>0.486592</td>\n",
       "      <td>0.836071</td>\n",
       "      <td>14.526497</td>\n",
       "      <td>1.102743</td>\n",
       "      <td>0.806057</td>\n",
       "      <td>49.693429</td>\n",
       "    </tr>\n",
       "    <tr>\n",
       "      <th>min</th>\n",
       "      <td>1.000000</td>\n",
       "      <td>0.000000</td>\n",
       "      <td>1.000000</td>\n",
       "      <td>0.420000</td>\n",
       "      <td>0.000000</td>\n",
       "      <td>0.000000</td>\n",
       "      <td>0.000000</td>\n",
       "    </tr>\n",
       "    <tr>\n",
       "      <th>25%</th>\n",
       "      <td>223.500000</td>\n",
       "      <td>0.000000</td>\n",
       "      <td>2.000000</td>\n",
       "      <td>20.125000</td>\n",
       "      <td>0.000000</td>\n",
       "      <td>0.000000</td>\n",
       "      <td>7.910400</td>\n",
       "    </tr>\n",
       "    <tr>\n",
       "      <th>50%</th>\n",
       "      <td>446.000000</td>\n",
       "      <td>0.000000</td>\n",
       "      <td>3.000000</td>\n",
       "      <td>28.000000</td>\n",
       "      <td>0.000000</td>\n",
       "      <td>0.000000</td>\n",
       "      <td>14.454200</td>\n",
       "    </tr>\n",
       "    <tr>\n",
       "      <th>75%</th>\n",
       "      <td>668.500000</td>\n",
       "      <td>1.000000</td>\n",
       "      <td>3.000000</td>\n",
       "      <td>38.000000</td>\n",
       "      <td>1.000000</td>\n",
       "      <td>0.000000</td>\n",
       "      <td>31.000000</td>\n",
       "    </tr>\n",
       "    <tr>\n",
       "      <th>max</th>\n",
       "      <td>891.000000</td>\n",
       "      <td>1.000000</td>\n",
       "      <td>3.000000</td>\n",
       "      <td>80.000000</td>\n",
       "      <td>8.000000</td>\n",
       "      <td>6.000000</td>\n",
       "      <td>512.329200</td>\n",
       "    </tr>\n",
       "  </tbody>\n",
       "</table>\n",
       "</div>"
      ],
      "text/plain": [
       "       PassengerId    Survived      Pclass         Age       SibSp  \\\n",
       "count   891.000000  891.000000  891.000000  714.000000  891.000000   \n",
       "mean    446.000000    0.383838    2.308642   29.699118    0.523008   \n",
       "std     257.353842    0.486592    0.836071   14.526497    1.102743   \n",
       "min       1.000000    0.000000    1.000000    0.420000    0.000000   \n",
       "25%     223.500000    0.000000    2.000000   20.125000    0.000000   \n",
       "50%     446.000000    0.000000    3.000000   28.000000    0.000000   \n",
       "75%     668.500000    1.000000    3.000000   38.000000    1.000000   \n",
       "max     891.000000    1.000000    3.000000   80.000000    8.000000   \n",
       "\n",
       "            Parch        Fare  \n",
       "count  891.000000  891.000000  \n",
       "mean     0.381594   32.204208  \n",
       "std      0.806057   49.693429  \n",
       "min      0.000000    0.000000  \n",
       "25%      0.000000    7.910400  \n",
       "50%      0.000000   14.454200  \n",
       "75%      0.000000   31.000000  \n",
       "max      6.000000  512.329200  "
      ]
     },
     "execution_count": 253,
     "metadata": {},
     "output_type": "execute_result"
    }
   ],
   "source": [
    "train_data.describe()"
   ]
  },
  {
   "cell_type": "markdown",
   "metadata": {},
   "source": [
    "## Ⅱ 数据预处理\n",
    "* 数据清洗\n",
    "数据集成\n",
    "数据变换\n",
    "数据规约\n",
    "* 数据缺失\n",
    "重复\n",
    "不同计量单位\n",
    "噪声"
   ]
  },
  {
   "cell_type": "markdown",
   "metadata": {},
   "source": [
    "### step1 数据清洗——处理缺失数据"
   ]
  },
  {
   "cell_type": "code",
   "execution_count": 254,
   "metadata": {},
   "outputs": [
    {
     "data": {
      "text/plain": [
       "False"
      ]
     },
     "execution_count": 254,
     "metadata": {},
     "output_type": "execute_result"
    }
   ],
   "source": [
    "train_data.isna().sum()\n",
    "test_data['Fare'].isna()[417]"
   ]
  },
  {
   "cell_type": "markdown",
   "metadata": {},
   "source": [
    "#### 为fare填充缺失值\n",
    "* 由于fare是比较重要的特征，且与Ticket高度相关，因此采用KNN的方法用Ticket预测fare缺失值\n",
    "  * fare中有一些0值，感觉不太合理，也进行替换\n",
    "  * 考虑到Ticket中靠前的字符对票价影响大，故加入权重因子"
   ]
  },
  {
   "cell_type": "code",
   "execution_count": 255,
   "metadata": {},
   "outputs": [],
   "source": [
    "from sklearn.neighbors import KNeighborsRegressor\n",
    "from sklearn.preprocessing import LabelEncoder\n",
    "\n",
    "def calculate_similarity(str1, str2):\n",
    "    # 计算字符串相似度，加入权重因子\n",
    "    weight = 1\n",
    "    similarity = 0\n",
    "    for i in range(min(len(str1), len(str2))):\n",
    "        if str1[i] == str2[i]:\n",
    "            similarity += weight\n",
    "        weight *= 0.9  \n",
    "    return similarity / max(len(str1), len(str2))\n",
    "\n",
    "def fill_missing_values(data): # data是dataframe格式\n",
    "    features = []\n",
    "    targets = []\n",
    "    max_len = 0\n",
    "\n",
    "    encoder = LabelEncoder()\n",
    "\n",
    "    data1 = data\n",
    "    # 将非空和为0的样本作为训练数据\n",
    "    for idx, sample in data1.iterrows():\n",
    "        if not data1['Fare'].isna()[idx] == True and sample['Fare'] != 0:\n",
    "            features.append(sample['Ticket'])\n",
    "            targets.append(sample['Fare'])\n",
    "            max_len = max(max_len, len(sample['Ticket']))\n",
    "    \n",
    "    print(len(features), len(targets))\n",
    "    for i in range(len(features)):\n",
    "        if(len(features[i]) < max_len):\n",
    "            features[i] += ' ' * (max_len - len(features[i]))\n",
    "        # 转化为label编码\n",
    "        features[i] = encoder.fit_transform(list(features[i]))\n",
    "        # label编码转化为数字\n",
    "        feature_num = 0\n",
    "        for element in features[i]:\n",
    "            feature_num = feature_num * 10 + int(element)\n",
    "        features[i] = feature_num\n",
    "\n",
    "    features = np.array(features).reshape(-1, 1)\n",
    "    targets = np.array(targets).reshape(-1, 1)\n",
    "    print(features.shape, targets.shape)\n",
    "\n",
    "    # 创建KNN回归模型\n",
    "    knn = KNeighborsRegressor(n_neighbors=5, metric=calculate_similarity)\n",
    "    knn.fit(features, targets)\n",
    "\n",
    "    # 使用KNN模型预测缺失值\n",
    "    for idx, sample in data.iterrows():\n",
    "        if data1['Fare'].isna()[idx] == True or (sample['Fare'] == 0):\n",
    "            print('begin')\n",
    "            feature = sample['Ticket']\n",
    "            # 补齐长度\n",
    "            if(len(feature) < max_len):\n",
    "                feature += ' ' * (max_len - len(feature))\n",
    "            # 转化为label编码\n",
    "            feature = encoder.fit_transform(list(feature))\n",
    "            # label编码转化为数字\n",
    "            feature_num = 0\n",
    "            for element in feature:\n",
    "                feature_num = feature_num * 10 + int(element)\n",
    "            predicted_value = knn.predict(np.array(feature_num).reshape(-1, 1))\n",
    "            data.loc[idx, 'Fare'] = predicted_value[0]\n",
    "            print('Predicted value: ', predicted_value[0], ' for sample: ', idx)\n",
    "\n",
    "    return data"
   ]
  },
  {
   "cell_type": "code",
   "execution_count": 256,
   "metadata": {},
   "outputs": [
    {
     "name": "stdout",
     "output_type": "stream",
     "text": [
      "876 876\n",
      "(876, 1) (876, 1)\n",
      "begin\n",
      "Predicted value:  [55.55]  for sample:  179\n",
      "begin\n",
      "Predicted value:  [55.55]  for sample:  263\n",
      "begin\n",
      "Predicted value:  [55.55]  for sample:  271\n",
      "begin\n",
      "Predicted value:  [55.55]  for sample:  277\n",
      "begin\n",
      "Predicted value:  [55.55]  for sample:  302\n",
      "begin\n",
      "Predicted value:  [55.55]  for sample:  413\n",
      "begin\n",
      "Predicted value:  [55.55]  for sample:  466\n",
      "begin\n",
      "Predicted value:  [55.55]  for sample:  481\n",
      "begin\n",
      "Predicted value:  [55.55]  for sample:  597\n",
      "begin\n",
      "Predicted value:  [55.55]  for sample:  633\n",
      "begin\n",
      "Predicted value:  [55.55]  for sample:  674\n",
      "begin\n",
      "Predicted value:  [55.55]  for sample:  732\n",
      "begin\n",
      "Predicted value:  [55.55]  for sample:  806\n",
      "begin\n",
      "Predicted value:  [55.55]  for sample:  815\n",
      "begin\n",
      "Predicted value:  [55.55]  for sample:  822\n"
     ]
    }
   ],
   "source": [
    "#test_data['Fare'].fillna(test_data['Fare'].median(), inplace=True)\n",
    "train_data = fill_missing_values(train_data)"
   ]
  },
  {
   "cell_type": "code",
   "execution_count": 257,
   "metadata": {},
   "outputs": [
    {
     "name": "stdout",
     "output_type": "stream",
     "text": [
      "415 415\n",
      "(415, 1) (415, 1)\n",
      "begin\n",
      "Predicted value:  [30.3775]  for sample:  152\n",
      "begin\n",
      "Predicted value:  [30.3775]  for sample:  266\n",
      "begin\n",
      "Predicted value:  [30.3775]  for sample:  372\n"
     ]
    }
   ],
   "source": [
    "test_data = fill_missing_values(test_data)"
   ]
  },
  {
   "cell_type": "code",
   "execution_count": 258,
   "metadata": {},
   "outputs": [
    {
     "data": {
      "image/png": "[encoded data removed]",
      "text/plain": [
       "<Figure size 640x480 with 1 Axes>"
      ]
     },
     "metadata": {},
     "output_type": "display_data"
    }
   ],
   "source": [
    "# 查看年龄分布\n",
    "train_data['Age'].hist(bins=70)\n",
    "# 选择用中位数填充年龄\n",
    "train_data['Age'].fillna(train_data['Age'].median(), inplace=True)\n",
    "test_data['Age'].fillna(test_data['Age'].median(), inplace=True)"
   ]
  },
  {
   "cell_type": "code",
   "execution_count": 259,
   "metadata": {},
   "outputs": [
    {
     "data": {
      "text/plain": [
       "S    644\n",
       "C    168\n",
       "Q     77\n",
       "Name: Embarked, dtype: int64"
      ]
     },
     "execution_count": 259,
     "metadata": {},
     "output_type": "execute_result"
    }
   ],
   "source": [
    "# 查看embarked的取值分布\n",
    "train_data['Embarked'].value_counts()"
   ]
  },
  {
   "cell_type": "code",
   "execution_count": 260,
   "metadata": {},
   "outputs": [],
   "source": [
    "# 缺失embarked的数据较少（只有两条），用众数填充\n",
    "train_data['Embarked'].fillna(train_data['Embarked'].mode()[0], inplace=True)\n",
    "train_data['Embarked'].fillna(train_data['Embarked'].mode()[0], inplace=True)"
   ]
  },
  {
   "cell_type": "code",
   "execution_count": 261,
   "metadata": {},
   "outputs": [],
   "source": [
    "# cabin数据缺失太多，先暂时不填充，待特征工程时再决定如何处理"
   ]
  },
  {
   "cell_type": "markdown",
   "metadata": {},
   "source": [
    "### 数据清理——噪声处理\n",
    "* 经检验，数据非常整齐，没有明显噪声"
   ]
  },
  {
   "cell_type": "code",
   "execution_count": 262,
   "metadata": {},
   "outputs": [
    {
     "name": "stdout",
     "output_type": "stream",
     "text": [
      "passengerId各不相同：True\n",
      "\n",
      "Survived 可能的取值：\n",
      "0    549\n",
      "1    342\n",
      "Name: Survived, dtype: int64\n",
      "\n",
      "Pclass 可能的取值：\n",
      "3    491\n",
      "1    216\n",
      "2    184\n",
      "Name: Pclass, dtype: int64\n",
      "\n",
      "Name各不相同：True\n",
      "\n",
      "Sex 可能的取值：\n",
      "male      577\n",
      "female    314\n",
      "Name: Sex, dtype: int64\n",
      "\n",
      "Age 可能的取值范围：0.42~80.0\n",
      "\n",
      "SibSp 可能的取值：\n",
      "0    608\n",
      "1    209\n",
      "2     28\n",
      "4     18\n",
      "3     16\n",
      "8      7\n",
      "5      5\n",
      "Name: SibSp, dtype: int64\n",
      "\n",
      "Parch 可能的取值：\n",
      "0    678\n",
      "1    118\n",
      "2     80\n",
      "5      5\n",
      "3      5\n",
      "4      4\n",
      "6      1\n",
      "Name: Parch, dtype: int64\n",
      "\n",
      "Ticket 可能的取值：\n",
      "347082      7\n",
      "CA. 2343    7\n",
      "1601        7\n",
      "3101295     6\n",
      "CA 2144     6\n",
      "           ..\n",
      "9234        1\n",
      "19988       1\n",
      "2693        1\n",
      "PC 17612    1\n",
      "370376      1\n",
      "Name: Ticket, Length: 681, dtype: int64\n",
      "\n",
      "Fare 可能的取值范围：4.0125~512.3292\n",
      "\n",
      "Cabin 可能的取值：\n",
      "B96 B98        4\n",
      "G6             4\n",
      "C23 C25 C27    4\n",
      "C22 C26        3\n",
      "F33            3\n",
      "              ..\n",
      "E34            1\n",
      "C7             1\n",
      "C54            1\n",
      "E36            1\n",
      "C148           1\n",
      "Name: Cabin, Length: 147, dtype: int64\n",
      "\n",
      "Embarked 可能的取值：\n",
      "S    646\n",
      "C    168\n",
      "Q     77\n",
      "Name: Embarked, dtype: int64\n",
      "\n"
     ]
    }
   ],
   "source": [
    "# 观察各特征值有无异常值\n",
    "a = train_data['PassengerId'].nunique() == train_data.shape[0]\n",
    "print(f'passengerId各不相同：{a}\\n')\n",
    "b = train_data['Survived'].value_counts()\n",
    "print(f'Survived 可能的取值：\\n{b}\\n')\n",
    "c = train_data['Pclass'].value_counts()\n",
    "print(f'Pclass 可能的取值：\\n{c}\\n')\n",
    "d = train_data[\"Name\"].nunique() == train_data.shape[0]\n",
    "print(f'Name各不相同：{d}\\n')\n",
    "e = train_data[\"Sex\"].value_counts()\n",
    "print(f'Sex 可能的取值：\\n{e}\\n')\n",
    "f = train_data[\"Age\"].min()\n",
    "g = train_data[\"Age\"].max()\n",
    "print(f'Age 可能的取值范围：{f}~{g}\\n')\n",
    "h = train_data[\"SibSp\"].value_counts()\n",
    "print(f'SibSp 可能的取值：\\n{h}\\n')\n",
    "i = train_data[\"Parch\"].value_counts()\n",
    "print(f'Parch 可能的取值：\\n{i}\\n')\n",
    "j = train_data[\"Ticket\"].value_counts()\n",
    "print(f'Ticket 可能的取值：\\n{j}\\n')\n",
    "k = train_data[\"Fare\"].min()\n",
    "l = train_data[\"Fare\"].max()\n",
    "print(f'Fare 可能的取值范围：{k}~{l}\\n')\n",
    "m = train_data[\"Cabin\"].value_counts()\n",
    "print(f'Cabin 可能的取值：\\n{m}\\n')\n",
    "n = train_data[\"Embarked\"].value_counts()\n",
    "print(f'Embarked 可能的取值：\\n{n}\\n')\n",
    "\n",
    "# 未发现数据中含有异常值：\n",
    "# 年龄票价等连续值均大于0且取值符合常理\n",
    "# 离散值类型一致，不存在数字和字符串混合的情况；id等唯一值各不相同\n"
   ]
  },
  {
   "cell_type": "markdown",
   "metadata": {},
   "source": [
    "### step2 数据集成\n",
    "* 只有一个数据源，无需集成\n",
    "\n",
    "### step3 数据变换\n",
    "* 规范化、离散化"
   ]
  },
  {
   "cell_type": "code",
   "execution_count": 263,
   "metadata": {},
   "outputs": [
    {
     "data": {
      "text/plain": [
       "'\\ntrain_norm = train_data.copy()\\ntest_norm = test_data.copy()\\nprint(train_norm[\"Age\"])\\n'"
      ]
     },
     "execution_count": 263,
     "metadata": {},
     "output_type": "execute_result"
    }
   ],
   "source": [
    "# 决策树、随机森林对数据的原始尺度不敏感，可能不需要归一化、离散化\n",
    "# SVM、KNN、xgboost等模型对数据的尺度敏感，需要归一化、离散化\n",
    "\"\"\"\n",
    "train_norm = train_data.copy()\n",
    "test_norm = test_data.copy()\n",
    "print(train_norm[\"Age\"])\n",
    "\"\"\"\n"
   ]
  },
  {
   "cell_type": "markdown",
   "metadata": {},
   "source": [
    "### step4 数据规约"
   ]
  },
  {
   "cell_type": "markdown",
   "metadata": {},
   "source": [
    "## Ⅲ 特征工程"
   ]
  },
  {
   "cell_type": "markdown",
   "metadata": {},
   "source": [
    "### step1 观察、构建特征"
   ]
  },
  {
   "cell_type": "code",
   "execution_count": 264,
   "metadata": {},
   "outputs": [
    {
     "data": {
      "image/png": "[encoded data removed]",
      "text/plain": [
       "<Figure size 640x480 with 1 Axes>"
      ]
     },
     "metadata": {},
     "output_type": "display_data"
    }
   ],
   "source": [
    "pclass_1 = train_data[train_data.Pclass == 1]\n",
    "pclass_2 = train_data[train_data.Pclass == 2]\n",
    "pclass_3 = train_data[train_data.Pclass == 3]\n",
    "sum_1 = pclass_1.shape[0]\n",
    "sum_2 = pclass_2.shape[0]\n",
    "sum_3 = pclass_3.shape[0]\n",
    "survived_1 = pclass_1[pclass_1.Survived == 1].shape[0]\n",
    "survived_2 = pclass_2[pclass_2.Survived == 1].shape[0]\n",
    "survived_3 = pclass_3[pclass_3.Survived == 1].shape[0]\n",
    "survived_rate_1 = survived_1 / sum_1\n",
    "survived_rate_2 = survived_2 / sum_2\n",
    "survived_rate_3 = survived_3 / sum_3\n",
    "plt.bar([1,2,3],[survived_rate_1,survived_rate_2,survived_rate_3])\n",
    "plt.xlabel('Pclass')\n",
    "plt.ylabel('Survive_rate')\n",
    "plt.show()\n",
    "# 观察的结果是：Pclass越高，存活率越高"
   ]
  },
  {
   "cell_type": "code",
   "execution_count": 265,
   "metadata": {},
   "outputs": [
    {
     "data": {
      "image/png": "[encoded data removed]",
      "text/plain": [
       "<Figure size 640x480 with 1 Axes>"
      ]
     },
     "metadata": {},
     "output_type": "display_data"
    }
   ],
   "source": [
    "male = train_data[train_data.Sex == 'male']\n",
    "female = train_data[train_data.Sex == 'female']\n",
    "sum1 = male.shape[0]\n",
    "sum2 = female.shape[0]\n",
    "survived_m = male[male.Survived == 1].shape[0]\n",
    "survived_f = female[female.Survived == 1].shape[0]\n",
    "survived_rate_m = survived_m / sum1\n",
    "survived_rate_f = survived_f / sum2\n",
    "plt.bar(['male','female'],[survived_rate_m,survived_rate_f])\n",
    "plt.xlabel('gender')\n",
    "plt.ylabel('Survive_rate')\n",
    "plt.show()\n",
    "# 观察的结果是：女性存活率更高\n",
    "\n",
    "\n",
    "# 转化sex为0-1\n",
    "train_data['Sex_num'] = train_data['Sex'].replace({'male':1,'female':0})\n",
    "train_data.head(5)\n",
    "test_data['Sex_num'] = test_data['Sex'].replace({'male':1,'female':0})"
   ]
  },
  {
   "cell_type": "code",
   "execution_count": 266,
   "metadata": {},
   "outputs": [
    {
     "data": {
      "image/png": "[encoded data removed]",
      "text/plain": [
       "<Figure size 640x480 with 1 Axes>"
      ]
     },
     "metadata": {},
     "output_type": "display_data"
    },
    {
     "data": {
      "image/png": "[encoded data removed]",
      "text/plain": [
       "<Figure size 640x480 with 1 Axes>"
      ]
     },
     "metadata": {},
     "output_type": "display_data"
    },
    {
     "data": {
      "text/plain": [
       "\"survived_list = train_data.Survived.tolist()\\nage_list = train_data.Age.tolist()\\nplt.scatter(age_list, survived_list)\\nplt.xlabel('Age')\\nplt.ylabel('Survive_ornot')\\nplt.show()\\n# 观察的结果是：年龄越小，存活人数越多\""
      ]
     },
     "execution_count": 266,
     "metadata": {},
     "output_type": "execute_result"
    }
   ],
   "source": [
    "age = train_data[\"Age\"].values\n",
    "bin_width = 10\n",
    "num_bins = int((age.max() - age.min()) / bin_width)\n",
    "train_data['age_cul'] = pd.cut(age, num_bins)\n",
    "survive = train_data[train_data[\"Survived\"] == 1].groupby('age_cul').size().values\n",
    "hist, bins = np.histogram(age, bins=num_bins)\n",
    "survive_rate = survive / hist\n",
    "survive_rate = np.nan_to_num(survive_rate)\n",
    "\n",
    "width = 0.35 * (bins[1] - bins[0])\n",
    "plt.bar(bins[:-1], hist, width=width, label='total')\n",
    "plt.bar(bins[:-1] + width, survive, width=width, label='survived')\n",
    "plt.xlabel('Age')\n",
    "plt.ylabel('Count')\n",
    "plt.legend()\n",
    "plt.show()\n",
    "\n",
    "plt.plot(bins[:-1], survive_rate)\n",
    "plt.xlabel('Age')\n",
    "plt.ylabel('Survive Rate')\n",
    "plt.show()\n",
    "\n",
    "'''survived_list = train_data.Survived.tolist()\n",
    "age_list = train_data.Age.tolist()\n",
    "plt.scatter(age_list, survived_list)\n",
    "plt.xlabel('Age')\n",
    "plt.ylabel('Survive_ornot')\n",
    "plt.show()\n",
    "# 观察的结果是：年龄越小，存活人数越多'''"
   ]
  },
  {
   "cell_type": "code",
   "execution_count": 267,
   "metadata": {},
   "outputs": [
    {
     "data": {
      "image/png": "[encoded data removed]",
      "text/plain": [
       "<Figure size 640x480 with 1 Axes>"
      ]
     },
     "metadata": {},
     "output_type": "display_data"
    }
   ],
   "source": [
    "sib1 = train_data[train_data.SibSp == 0]\n",
    "sib2 = train_data[train_data.SibSp == 1]\n",
    "sib3 = train_data[train_data.SibSp == 2]\n",
    "sib4 = train_data[train_data.SibSp == 3]\n",
    "sib5 = train_data[train_data.SibSp == 4]\n",
    "sib6 = train_data[train_data.SibSp == 5]\n",
    "sib7 = train_data[train_data.SibSp == 8]\n",
    "survived_rate_1 = sib1[sib1.Survived == 1].shape[0] / sib1.shape[0]\n",
    "survived_rate_2 = sib2[sib2.Survived == 1].shape[0] / sib2.shape[0]\n",
    "survived_rate_3 = sib3[sib3.Survived == 1].shape[0] / sib3.shape[0]\n",
    "survived_rate_4 = sib4[sib4.Survived == 1].shape[0] / sib4.shape[0]\n",
    "survived_rate_5 = sib5[sib5.Survived == 1].shape[0] / sib5.shape[0]\n",
    "survived_rate_6 = sib6[sib6.Survived == 1].shape[0] / sib6.shape[0]\n",
    "survived_rate_7 = sib7[sib7.Survived == 1].shape[0] / sib7.shape[0]\n",
    "plt.plot([0,1,2,3,4,5,8],[survived_rate_1,survived_rate_2,survived_rate_3,survived_rate_4,survived_rate_5,survived_rate_6,survived_rate_7])\n",
    "plt.xlabel('SibSp')\n",
    "plt.ylabel('Survive_rate')\n",
    "plt.show()"
   ]
  },
  {
   "cell_type": "code",
   "execution_count": 268,
   "metadata": {},
   "outputs": [
    {
     "data": {
      "image/png": "[encoded data removed]",
      "text/plain": [
       "<Figure size 640x480 with 1 Axes>"
      ]
     },
     "metadata": {},
     "output_type": "display_data"
    }
   ],
   "source": [
    "survive_parch1 = train_data[train_data.Parch == 0][train_data[train_data.Parch == 0].Survived == 1].shape[0] / train_data[train_data.Parch == 0].shape[0]\n",
    "survive_parch2 = train_data[train_data.Parch == 1][train_data[train_data.Parch == 1].Survived == 1].shape[0] / train_data[train_data.Parch == 1].shape[0]\n",
    "survive_parch3 = train_data[train_data.Parch == 2][train_data[train_data.Parch == 2].Survived == 1].shape[0] / train_data[train_data.Parch == 2].shape[0]\n",
    "survive_parch4 = train_data[train_data.Parch == 3][train_data[train_data.Parch == 3].Survived == 1].shape[0] / train_data[train_data.Parch == 3].shape[0]\n",
    "survive_parch5 = train_data[train_data.Parch == 4][train_data[train_data.Parch == 4].Survived == 1].shape[0] / train_data[train_data.Parch == 4].shape[0]\n",
    "survive_parch6 = train_data[train_data.Parch == 5][train_data[train_data.Parch == 5].Survived == 1].shape[0] / train_data[train_data.Parch == 5].shape[0]\n",
    "survive_parch7 = train_data[train_data.Parch == 6][train_data[train_data.Parch == 6].Survived == 1].shape[0] / train_data[train_data.Parch == 6].shape[0]\n",
    "plt.bar([0,1,2,3,4,5,6],[survive_parch1,survive_parch2,survive_parch3,survive_parch4,survive_parch5,survive_parch6,survive_parch7])\n",
    "plt.xlabel('Parch')\n",
    "plt.ylabel('Survive_rate')\n",
    "plt.show()"
   ]
  },
  {
   "cell_type": "code",
   "execution_count": 269,
   "metadata": {},
   "outputs": [
    {
     "name": "stderr",
     "output_type": "stream",
     "text": [
      "C:\\Users\\86135\\AppData\\Local\\Temp\\ipykernel_2396\\2224884382.py:8: RuntimeWarning: invalid value encountered in true_divide\n",
      "  survive_rate = survive / hist\n"
     ]
    },
    {
     "data": {
      "image/png": "[encoded data removed]",
      "text/plain": [
       "<Figure size 640x480 with 1 Axes>"
      ]
     },
     "metadata": {},
     "output_type": "display_data"
    },
    {
     "data": {
      "image/png": "[encoded data removed]",
      "text/plain": [
       "<Figure size 640x480 with 1 Axes>"
      ]
     },
     "metadata": {},
     "output_type": "display_data"
    }
   ],
   "source": [
    "fare = train_data[\"Fare\"].values\n",
    "bin_width = 30\n",
    "num_bins = int((fare.max() - fare.min()) / bin_width) + 1\n",
    "train_data['price_cul'] = pd.cut(fare, bins=num_bins)\n",
    "survive = train_data[train_data[\"Survived\"] == 1].groupby('price_cul').size()\n",
    "survive = survive.values\n",
    "hist, bins = np.histogram(fare, bins=num_bins)\n",
    "survive_rate = survive / hist\n",
    "survive_rate = np.nan_to_num(survive_rate)\n",
    "\n",
    "width = 0.35*bin_width\n",
    "plt.bar(bins[:-1], hist, width=width, label='total')\n",
    "plt.bar(bins[:-1] + width, survive, width=width, label='survive')\n",
    "plt.xlabel('Fare')\n",
    "plt.ylabel('Count')\n",
    "plt.legend()\n",
    "plt.show()\n",
    "\n",
    "\n",
    "plt.plot(bins[:-1], survive_rate)\n",
    "plt.xlabel('Fare')\n",
    "plt.ylabel('Survive_rate')\n",
    "plt.show()"
   ]
  },
  {
   "cell_type": "code",
   "execution_count": 270,
   "metadata": {},
   "outputs": [
    {
     "data": {
      "image/png": "[encoded data removed]",
      "text/plain": [
       "<Figure size 640x480 with 1 Axes>"
      ]
     },
     "metadata": {},
     "output_type": "display_data"
    }
   ],
   "source": [
    "embrak1 = train_data[train_data.Embarked == 'S']\n",
    "embrak2 = train_data[train_data.Embarked == 'C']\n",
    "embrak3 = train_data[train_data.Embarked == 'Q']\n",
    "survive_rate_1 = embrak1[embrak1.Survived == 1].shape[0] / embrak1.shape[0]\n",
    "survive_rate_2 = embrak2[embrak2.Survived == 1].shape[0] / embrak2.shape[0]\n",
    "survive_rate_3 = embrak3[embrak3.Survived == 1].shape[0] / embrak3.shape[0]\n",
    "plt.bar(['S','C','Q'],[survive_rate_1,survive_rate_2,survive_rate_3])\n",
    "plt.xlabel('Embarked')\n",
    "plt.ylabel('Survive_rate')\n",
    "plt.show()\n"
   ]
  },
  {
   "cell_type": "code",
   "execution_count": 271,
   "metadata": {},
   "outputs": [
    {
     "data": {
      "text/plain": [
       "B96 B98        4\n",
       "G6             4\n",
       "C23 C25 C27    4\n",
       "C22 C26        3\n",
       "F33            3\n",
       "              ..\n",
       "E34            1\n",
       "C7             1\n",
       "C54            1\n",
       "E36            1\n",
       "C148           1\n",
       "Name: Cabin, Length: 147, dtype: int64"
      ]
     },
     "execution_count": 271,
     "metadata": {},
     "output_type": "execute_result"
    }
   ],
   "source": [
    "# 查看cabin类型\n",
    "train_data['Cabin'].value_counts()"
   ]
  },
  {
   "cell_type": "code",
   "execution_count": 272,
   "metadata": {},
   "outputs": [],
   "source": [
    "# 发现cabin完全相同的数据很少，因此简化cabin为其首字母\n",
    "train_data['Cabin'] = train_data['Cabin'].str[0]\n",
    "train_data['Cabin'].value_counts()\n",
    "test_data['Cabin'] = test_data['Cabin'].str[0]"
   ]
  },
  {
   "cell_type": "code",
   "execution_count": 273,
   "metadata": {},
   "outputs": [
    {
     "data": {
      "image/png": "[encoded data removed]",
      "text/plain": [
       "<Figure size 640x480 with 1 Axes>"
      ]
     },
     "metadata": {},
     "output_type": "display_data"
    }
   ],
   "source": [
    "# 查看cabin与survived的关系大不大\n",
    "A = train_data[train_data.Cabin == 'A']\n",
    "B = train_data[train_data.Cabin == 'B']\n",
    "C = train_data[train_data.Cabin == 'C']\n",
    "D = train_data[train_data.Cabin == 'D']\n",
    "E = train_data[train_data.Cabin == 'E']\n",
    "F = train_data[train_data.Cabin == 'F']\n",
    "G = train_data[train_data.Cabin == 'G']\n",
    "T = train_data[train_data.Cabin == 'T']\n",
    "survived_rate_A = A[A.Survived == 1].shape[0] / A.shape[0]\n",
    "survived_rate_B = B[B.Survived == 1].shape[0] / B.shape[0]\n",
    "survived_rate_C = C[C.Survived == 1].shape[0] / C.shape[0]\n",
    "survived_rate_D = D[D.Survived == 1].shape[0] / D.shape[0]\n",
    "survived_rate_E = E[E.Survived == 1].shape[0] / E.shape[0]\n",
    "survived_rate_F = F[F.Survived == 1].shape[0] / F.shape[0]\n",
    "survived_rate_G = G[G.Survived == 1].shape[0] / G.shape[0]\n",
    "survived_rate_T = T[T.Survived == 1].shape[0] / T.shape[0]\n",
    "#print(survived_rate_A,survived_rate_B,survived_rate_C,survived_rate_D,survived_rate_E,survived_rate_F,survived_rate_G,survived_rate_T)\n",
    "plt.bar(['A','B','C','D','E','F','G','T'],[survived_rate_A,survived_rate_B,survived_rate_C,survived_rate_D,survived_rate_E,survived_rate_F,survived_rate_G,survived_rate_T])\n",
    "plt.xlabel('Cabin')\n",
    "plt.ylabel('Survive_rate')\n",
    "plt.show()\n"
   ]
  },
  {
   "cell_type": "code",
   "execution_count": 274,
   "metadata": {},
   "outputs": [
    {
     "data": {
      "image/png": "[encoded data removed]",
      "text/plain": [
       "<Figure size 640x480 with 1 Axes>"
      ]
     },
     "metadata": {},
     "output_type": "display_data"
    }
   ],
   "source": [
    "# 发现有cabin标记的数据存活率比总平均存活率高，因此将没有cabin标记的数据标记为‘N’\n",
    "train_data['Cabin'].fillna('N', inplace=True)\n",
    "\n",
    "N = train_data[train_data.Cabin == 'N']\n",
    "survived_rate_N = N[N.Survived == 1].shape[0] / N.shape[0]\n",
    "plt.bar(['A','B','C','D','E','F','G','T','N'],[survived_rate_A,survived_rate_B,survived_rate_C,survived_rate_D,survived_rate_E,survived_rate_F,survived_rate_G,survived_rate_T,survived_rate_N])\n",
    "plt.xlabel('Cabin')\n",
    "plt.ylabel('Survive_rate')\n",
    "plt.show()\n",
    "# 观察到N与其他cabin类别的差距和cabin类别间的差距没有很大，因此当前的划分方式比将cabin分为有无两类更合理\n",
    "\n",
    "# 转化值为数字\n",
    "train_data['Cabin_num'] = train_data['Cabin'].replace({'A':1,'B':2,'C':3,'D':4,'E':5,'F':6,'T':7,'G':8,'N':0})\n",
    "#train_data['Cabin']\n",
    "train_data['Cabin_num']\n",
    "\n",
    "test_data['Cabin'].fillna('N', inplace=True)\n",
    "test_data['Cabin_num'] = test_data['Cabin'].replace({'A':1,'B':2,'C':3,'D':4,'E':5,'F':6,'T':7,'G':8,'N':0})\n"
   ]
  },
  {
   "cell_type": "markdown",
   "metadata": {},
   "source": [
    "#### 独热编码\n",
    "* 将离散且标签间没有明显顺序关系的特征转化为独热编码\n",
    "  * 此处仅有embark符合这个条件"
   ]
  },
  {
   "cell_type": "code",
   "execution_count": 275,
   "metadata": {},
   "outputs": [
    {
     "data": {
      "text/html": [
       "<div>\n",
       "<style scoped>\n",
       "    .dataframe tbody tr th:only-of-type {\n",
       "        vertical-align: middle;\n",
       "    }\n",
       "\n",
       "    .dataframe tbody tr th {\n",
       "        vertical-align: top;\n",
       "    }\n",
       "\n",
       "    .dataframe thead th {\n",
       "        text-align: right;\n",
       "    }\n",
       "</style>\n",
       "<table border=\"1\" class=\"dataframe\">\n",
       "  <thead>\n",
       "    <tr style=\"text-align: right;\">\n",
       "      <th></th>\n",
       "      <th>PassengerId</th>\n",
       "      <th>Survived</th>\n",
       "      <th>Pclass</th>\n",
       "      <th>Name</th>\n",
       "      <th>Sex</th>\n",
       "      <th>Age</th>\n",
       "      <th>SibSp</th>\n",
       "      <th>Parch</th>\n",
       "      <th>Ticket</th>\n",
       "      <th>Fare</th>\n",
       "      <th>Cabin</th>\n",
       "      <th>Sex_num</th>\n",
       "      <th>age_cul</th>\n",
       "      <th>price_cul</th>\n",
       "      <th>Cabin_num</th>\n",
       "      <th>Embarked_C</th>\n",
       "      <th>Embarked_Q</th>\n",
       "      <th>Embarked_S</th>\n",
       "    </tr>\n",
       "  </thead>\n",
       "  <tbody>\n",
       "    <tr>\n",
       "      <th>0</th>\n",
       "      <td>1</td>\n",
       "      <td>0</td>\n",
       "      <td>3</td>\n",
       "      <td>Braund, Mr. Owen Harris</td>\n",
       "      <td>male</td>\n",
       "      <td>22.0</td>\n",
       "      <td>1</td>\n",
       "      <td>0</td>\n",
       "      <td>A/5 21171</td>\n",
       "      <td>7.25</td>\n",
       "      <td>N</td>\n",
       "      <td>1</td>\n",
       "      <td>(11.789, 23.157]</td>\n",
       "      <td>(3.504, 33.913]</td>\n",
       "      <td>0</td>\n",
       "      <td>0</td>\n",
       "      <td>0</td>\n",
       "      <td>1</td>\n",
       "    </tr>\n",
       "  </tbody>\n",
       "</table>\n",
       "</div>"
      ],
      "text/plain": [
       "   PassengerId  Survived  Pclass                     Name   Sex   Age  SibSp  \\\n",
       "0            1         0       3  Braund, Mr. Owen Harris  male  22.0      1   \n",
       "\n",
       "   Parch     Ticket  Fare Cabin  Sex_num           age_cul        price_cul  \\\n",
       "0      0  A/5 21171  7.25     N        1  (11.789, 23.157]  (3.504, 33.913]   \n",
       "\n",
       "   Cabin_num  Embarked_C  Embarked_Q  Embarked_S  \n",
       "0          0           0           0           1  "
      ]
     },
     "execution_count": 275,
     "metadata": {},
     "output_type": "execute_result"
    }
   ],
   "source": [
    "# embark拆分成三列\n",
    "train_data = pd.get_dummies(train_data, columns=['Embarked'])\n",
    "test_data = pd.get_dummies(test_data, columns=['Embarked'])\n",
    "train_data.head(1)"
   ]
  },
  {
   "cell_type": "markdown",
   "metadata": {},
   "source": [
    "#### 构建更有意义的特征\n",
    "* sibsp表示兄弟姐妹和配偶人数，parch表示父母和子女人数，两个特征求和再加自己表示家庭成员人数\n",
    "    * 1表示独自一人，2-3表示小家庭，4-7表示中等家庭，8以上表示大家庭\n",
    "  \n",
    "    用不同方式表示构建家庭成员人数的特征，观察哪种方式更合理"
   ]
  },
  {
   "cell_type": "code",
   "execution_count": 276,
   "metadata": {},
   "outputs": [
    {
     "data": {
      "text/plain": [
       "1     537\n",
       "2     161\n",
       "3     102\n",
       "4      29\n",
       "6      22\n",
       "5      15\n",
       "7      12\n",
       "11      7\n",
       "8       6\n",
       "Name: FamilySize, dtype: int64"
      ]
     },
     "execution_count": 276,
     "metadata": {},
     "output_type": "execute_result"
    }
   ],
   "source": [
    "# 创建新特征：家庭成员数\n",
    "train_data['FamilySize'] = train_data['SibSp'] + train_data['Parch'] + 1\n",
    "test_data['FamilySize'] = test_data['SibSp'] + test_data['Parch'] + 1\n",
    "train_data['FamilySize'].value_counts()\n"
   ]
  },
  {
   "cell_type": "code",
   "execution_count": 277,
   "metadata": {},
   "outputs": [
    {
     "data": {
      "image/png": "[encoded data removed]",
      "text/plain": [
       "<Figure size 640x480 with 1 Axes>"
      ]
     },
     "metadata": {},
     "output_type": "display_data"
    }
   ],
   "source": [
    "survived_rate_1 = train_data[train_data.FamilySize == 1][train_data[train_data.FamilySize == 1].Survived == 1].shape[0] / train_data[train_data.FamilySize == 1].shape[0]\n",
    "survived_rate_2 = train_data[train_data.FamilySize == 2][train_data[train_data.FamilySize == 2].Survived == 1].shape[0] / train_data[train_data.FamilySize == 2].shape[0]\n",
    "survived_rate_3 = train_data[train_data.FamilySize == 3][train_data[train_data.FamilySize == 3].Survived == 1].shape[0] / train_data[train_data.FamilySize == 3].shape[0]\n",
    "survived_rate_4 = train_data[train_data.FamilySize == 4][train_data[train_data.FamilySize == 4].Survived == 1].shape[0] / train_data[train_data.FamilySize == 4].shape[0]\n",
    "survived_rate_5 = train_data[train_data.FamilySize == 5][train_data[train_data.FamilySize == 5].Survived == 1].shape[0] / train_data[train_data.FamilySize == 5].shape[0]\n",
    "survived_rate_6 = train_data[train_data.FamilySize == 6][train_data[train_data.FamilySize == 6].Survived == 1].shape[0] / train_data[train_data.FamilySize == 6].shape[0]\n",
    "survived_rate_7 = train_data[train_data.FamilySize == 7][train_data[train_data.FamilySize == 7].Survived == 1].shape[0] / train_data[train_data.FamilySize == 7].shape[0]\n",
    "survived_rate_8 = train_data[train_data.FamilySize == 8][train_data[train_data.FamilySize == 8].Survived == 1].shape[0] / train_data[train_data.FamilySize == 8].shape[0]\n",
    "survived_rate_11 = train_data[train_data.FamilySize == 11][train_data[train_data.FamilySize == 11].Survived == 1].shape[0] / train_data[train_data.FamilySize == 11].shape[0]\n",
    "plt.bar([1,2,3,4,5,6,7,8,11],[survived_rate_1,survived_rate_2,survived_rate_3,survived_rate_4,survived_rate_5,survived_rate_6,survived_rate_7,survived_rate_8,survived_rate_11])\n",
    "plt.xlabel('FamilySize')\n",
    "plt.ylabel('Survive_rate')\n",
    "plt.show()\n"
   ]
  },
  {
   "cell_type": "code",
   "execution_count": 278,
   "metadata": {},
   "outputs": [
    {
     "data": {
      "text/plain": [
       "Alone     537\n",
       "Small     292\n",
       "Medium     49\n",
       "Large      13\n",
       "Name: FamilySizeDiscrete, dtype: int64"
      ]
     },
     "execution_count": 278,
     "metadata": {},
     "output_type": "execute_result"
    }
   ],
   "source": [
    "# 观察到家庭成员数为2~4时存活率较高，因此将家庭成员数分为4类：独自，小家庭，中等家庭，大家庭\n",
    "train_data['FamilySizeDiscrete'] = np.where((train_data['FamilySize'] == 1), 'Alone', '')\n",
    "train_data['FamilySizeDiscrete'] = np.where((train_data['FamilySize'] >= 2) & (train_data['FamilySize'] <= 4), 'Small', train_data['FamilySizeDiscrete'])\n",
    "train_data['FamilySizeDiscrete'] = np.where((train_data['FamilySize'] >= 5) & (train_data['FamilySize'] <= 7), 'Medium', train_data['FamilySizeDiscrete'])\n",
    "train_data['FamilySizeDiscrete'] = np.where((train_data['FamilySize'] >= 8), 'Large', train_data['FamilySizeDiscrete'])\n",
    "test_data['FamilySizeDiscrete'] = np.where((test_data['FamilySize'] == 1), 'Alone', '')\n",
    "test_data['FamilySizeDiscrete'] = np.where((test_data['FamilySize'] >= 2) & (test_data['FamilySize'] <= 4), 'Small', test_data['FamilySizeDiscrete'])\n",
    "test_data['FamilySizeDiscrete'] = np.where((test_data['FamilySize'] >= 5) & (test_data['FamilySize'] <= 7), 'Medium', test_data['FamilySizeDiscrete'])\n",
    "test_data['FamilySizeDiscrete'] = np.where((test_data['FamilySize'] >= 8), 'Large', test_data['FamilySizeDiscrete'])\n",
    "\n",
    "train_data['FamilySizeDiscrete'].value_counts()"
   ]
  },
  {
   "cell_type": "code",
   "execution_count": 279,
   "metadata": {},
   "outputs": [
    {
     "data": {
      "image/png": "[encoded data removed]",
      "text/plain": [
       "<Figure size 640x480 with 1 Axes>"
      ]
     },
     "metadata": {},
     "output_type": "display_data"
    },
    {
     "data": {
      "text/plain": [
       "0      2\n",
       "1      2\n",
       "2      1\n",
       "3      2\n",
       "4      1\n",
       "      ..\n",
       "886    1\n",
       "887    1\n",
       "888    2\n",
       "889    1\n",
       "890    1\n",
       "Name: FamilySizeD_num, Length: 891, dtype: int64"
      ]
     },
     "execution_count": 279,
     "metadata": {},
     "output_type": "execute_result"
    }
   ],
   "source": [
    "survive_a = train_data[train_data.FamilySizeDiscrete == 'Alone'][train_data[train_data.FamilySizeDiscrete == 'Alone'].Survived == 1].shape[0] / train_data[train_data.FamilySizeDiscrete == 'Alone'].shape[0]\n",
    "survive_s = train_data[train_data.FamilySizeDiscrete == 'Small'][train_data[train_data.FamilySizeDiscrete == 'Small'].Survived == 1].shape[0] / train_data[train_data.FamilySizeDiscrete == 'Small'].shape[0]\n",
    "survive_m = train_data[train_data.FamilySizeDiscrete == 'Medium'][train_data[train_data.FamilySizeDiscrete == 'Medium'].Survived == 1].shape[0] / train_data[train_data.FamilySizeDiscrete == 'Medium'].shape[0]\n",
    "survive_l = train_data[train_data.FamilySizeDiscrete == 'Large'][train_data[train_data.FamilySizeDiscrete == 'Large'].Survived == 1].shape[0] / train_data[train_data.FamilySizeDiscrete == 'Large'].shape[0]\n",
    "plt.bar(['Alone','Small','Medium','Large'],[survive_a,survive_s,survive_m,survive_l])\n",
    "plt.xlabel('FamilySizeDiscrete')\n",
    "plt.ylabel('Survive_rate')\n",
    "plt.show()\n",
    "train_data.head(1)\n",
    "\n",
    "# 转化为数字\n",
    "train_data['FamilySizeD_num'] = train_data['FamilySizeDiscrete'].replace({'Alone':1,'Small':2,'Medium':3,'Large':4})\n",
    "test_data['FamilySizeD_num'] = test_data['FamilySizeDiscrete'].replace({'Alone':1,'Small':2,'Medium':3,'Large':4})\n",
    "train_data['FamilySizeD_num']\n",
    "#train_data['FamilySizeDiscrete']"
   ]
  },
  {
   "cell_type": "markdown",
   "metadata": {},
   "source": [
    "#### 处理文字特征name\n",
    "* 由于单纯名字对判断生存率意义不大，因此选择对称谓分类"
   ]
  },
  {
   "cell_type": "code",
   "execution_count": 280,
   "metadata": {},
   "outputs": [
    {
     "data": {
      "text/plain": [
       "Mr              517\n",
       "Miss            182\n",
       "Mrs             125\n",
       "Master           40\n",
       "Dr                7\n",
       "Rev               6\n",
       "Mlle              2\n",
       "Major             2\n",
       "Col               2\n",
       "the Countess      1\n",
       "Capt              1\n",
       "Ms                1\n",
       "Sir               1\n",
       "Lady              1\n",
       "Mme               1\n",
       "Don               1\n",
       "Jonkheer          1\n",
       "Name: Title, dtype: int64"
      ]
     },
     "execution_count": 280,
     "metadata": {},
     "output_type": "execute_result"
    }
   ],
   "source": [
    "# 首先对名字分词\n",
    "for index, row in train_data.iterrows():\n",
    "    name = row['Name'].split(',')[1].split('.')[0].strip()\n",
    "    train_data.loc[index, 'Title'] = name\n",
    "for index, row in test_data.iterrows():\n",
    "    name = row['Name'].split(',')[1].split('.')[0].strip()\n",
    "    test_data.loc[index, 'Title'] = name\n",
    "train_data['Title'].value_counts()"
   ]
  },
  {
   "cell_type": "code",
   "execution_count": 281,
   "metadata": {},
   "outputs": [
    {
     "data": {
      "text/plain": [
       "Mr         240\n",
       "Miss        78\n",
       "Mrs         73\n",
       "Master      21\n",
       "Officer      5\n",
       "Dona         1\n",
       "Name: Title, dtype: int64"
      ]
     },
     "execution_count": 281,
     "metadata": {},
     "output_type": "execute_result"
    }
   ],
   "source": [
    "# 经查询知:\n",
    "# Mr:已婚男士\n",
    "# Mrs:已婚女士\n",
    "# Miss:未婚女士\n",
    "# Master:小男孩\n",
    "# Dr:医生\n",
    "# Rev:牧师\n",
    "# Col:陆军上校\n",
    "# Major:陆军少校\n",
    "# Mlle:法语“小姐”（Miss的法语缩写）\n",
    "# Ms:女士\n",
    "# Mme:法语“夫人”（Mrs的法语缩写）\n",
    "# Sir:爵士\n",
    "# Lady:女士\n",
    "# Countess:女伯爵\n",
    "# Don:西班牙语中的贵族称呼，相当于英语中的Sir\n",
    "# Jonkheer:荷兰语中的贵族称呼，相当于英语中的Sir\n",
    "# Capt:船长\n",
    "\n",
    "# 由此将称谓分为6类\n",
    "# Mr,\n",
    "# Mrs,Ms,Mme,Lady ==> Mrs\n",
    "# Miss,Mlle ==> Miss\n",
    "# Master,\n",
    "# Dr,Rev,Col,Major,Capt ==> Officer\n",
    "# Sir,Countess,Don,Jonkheer ==> Royalty\n",
    "\n",
    "train_data['Title'] = train_data['Title'].replace(['Ms', 'Mme', 'Lady'], 'Mrs')\n",
    "train_data['Title'] = train_data['Title'].replace(['Mlle'], 'Miss')\n",
    "train_data['Title'] = train_data['Title'].replace(['Dr', 'Rev', 'Col', 'Major', 'Capt'], 'Officer')\n",
    "train_data['Title'] = train_data['Title'].replace(['Sir', 'the Countess', 'Don', 'Jonkheer'], 'Royalty')\n",
    "test_data['Title'] = test_data['Title'].replace(['Ms', 'Mme', 'Lady'], 'Mrs')\n",
    "test_data['Title'] = test_data['Title'].replace(['Mlle'], 'Miss')\n",
    "test_data['Title'] = test_data['Title'].replace(['Dr', 'Rev', 'Col', 'Major', 'Capt'], 'Officer')\n",
    "test_data['Title'] = test_data['Title'].replace(['Sir', 'the Countess', 'Don', 'Jonkheer'], 'Royalty')\n",
    "\n",
    "test_data['Title'].value_counts()\n",
    "\n"
   ]
  },
  {
   "cell_type": "code",
   "execution_count": 282,
   "metadata": {},
   "outputs": [
    {
     "data": {
      "image/png": "[encoded data removed]",
      "text/plain": [
       "<Figure size 640x480 with 1 Axes>"
      ]
     },
     "metadata": {},
     "output_type": "display_data"
    },
    {
     "data": {
      "text/plain": [
       "Index(['PassengerId', 'Survived', 'Pclass', 'Name', 'Sex', 'Age', 'SibSp',\n",
       "       'Parch', 'Ticket', 'Fare', 'Cabin', 'Sex_num', 'age_cul', 'price_cul',\n",
       "       'Cabin_num', 'Embarked_C', 'Embarked_Q', 'Embarked_S', 'FamilySize',\n",
       "       'FamilySizeDiscrete', 'FamilySizeD_num', 'Title_Master', 'Title_Miss',\n",
       "       'Title_Mr', 'Title_Mrs', 'Title_Officer', 'Title_Royalty'],\n",
       "      dtype='object')"
      ]
     },
     "execution_count": 282,
     "metadata": {},
     "output_type": "execute_result"
    }
   ],
   "source": [
    "survive_mr = train_data[train_data.Title == 'Mr'][train_data[train_data.Title == 'Mr'].Survived == 1].shape[0] / train_data[train_data.Title == 'Mr'].shape[0]\n",
    "survive_mrs = train_data[train_data.Title == 'Mrs'][train_data[train_data.Title == 'Mrs'].Survived == 1].shape[0] / train_data[train_data.Title == 'Mrs'].shape[0]\n",
    "survive_miss = train_data[train_data.Title == 'Miss'][train_data[train_data.Title == 'Miss'].Survived == 1].shape[0] / train_data[train_data.Title == 'Miss'].shape[0]\n",
    "survive_master = train_data[train_data.Title == 'Master'][train_data[train_data.Title == 'Master'].Survived == 1].shape[0] / train_data[train_data.Title == 'Master'].shape[0]\n",
    "survive_officer = train_data[train_data.Title == 'Officer'][train_data[train_data.Title == 'Officer'].Survived == 1].shape[0] / train_data[train_data.Title == 'Officer'].shape[0]\n",
    "survive_royalty = train_data[train_data.Title == 'Royalty'][train_data[train_data.Title == 'Royalty'].Survived == 1].shape[0] / train_data[train_data.Title == 'Royalty'].shape[0]\n",
    "plt.bar(['Mr','Mrs','Miss','Master','Officer','Royalty'],[survive_mr,survive_mrs,survive_miss,survive_master,survive_officer,survive_royalty])\n",
    "plt.xlabel('Title')\n",
    "plt.ylabel('Survive_rate')\n",
    "plt.show()\n",
    "# 转化成one-hot编码\n",
    "train_data = pd.get_dummies(train_data, columns=['Title'])\n",
    "test_data = pd.get_dummies(test_data, columns=['Title'])\n",
    "# 为test补充Title_Royalty列\n",
    "test_data['Title_Royalty'] = 0\n",
    "train_data.columns"
   ]
  },
  {
   "cell_type": "markdown",
   "metadata": {},
   "source": [
    "### step2 选择特征\n",
    "* 'Pclass',  'Age', 'SibSp', 'Parch', 'Fare', 'Sex_num', 'Cabin_num', \n",
    "* 'Embarked_C', 'Embarked_Q', 'Embarked_S', 'FamilySize', 'FamilySizeD_num'\n",
    "* 'Title_Master', 'Title_Miss', 'Title_Mr', 'Title_Mrs', 'Title_Officer', 'Title_Royalty'"
   ]
  },
  {
   "cell_type": "code",
   "execution_count": 283,
   "metadata": {},
   "outputs": [
    {
     "data": {
      "text/plain": [
       "array([[ 3., 22.,  1., ...,  0.,  0.,  0.],\n",
       "       [ 1., 38.,  1., ...,  1.,  0.,  0.],\n",
       "       [ 3., 26.,  0., ...,  0.,  0.,  0.],\n",
       "       ...,\n",
       "       [ 3., 28.,  1., ...,  0.,  0.,  0.],\n",
       "       [ 1., 26.,  0., ...,  0.,  0.,  0.],\n",
       "       [ 3., 32.,  0., ...,  0.,  0.,  0.]])"
      ]
     },
     "execution_count": 283,
     "metadata": {},
     "output_type": "execute_result"
    }
   ],
   "source": [
    "feature_select = train_data.loc[:,['Pclass',  'Age', 'SibSp', 'Parch', 'Fare', 'Sex_num', 'Cabin_num', 'Embarked_C', 'Embarked_Q', 'Embarked_S', 'FamilySize', 'FamilySizeD_num', 'Title_Master', 'Title_Miss', 'Title_Mr', 'Title_Mrs', 'Title_Officer', 'Title_Royalty']]\n",
    "feature_select_test = test_data.loc[:,['Pclass',  'Age', 'SibSp', 'Parch', 'Fare', 'Sex_num', 'Cabin_num', 'Embarked_C', 'Embarked_Q', 'Embarked_S', 'FamilySize', 'FamilySizeD_num', 'Title_Master', 'Title_Miss', 'Title_Mr', 'Title_Mrs', 'Title_Officer', 'Title_Royalty']]\n",
    "#feature_select.drop(0)\n",
    "#feature_select\n",
    "matrix_raw = []\n",
    "for row in feature_select.iterrows():\n",
    "    matrix_raw.append(row[1].values)\n",
    "    #print(row[1].values)\n",
    "matrix = np.asarray(matrix_raw)\n",
    "matrix"
   ]
  },
  {
   "cell_type": "code",
   "execution_count": 284,
   "metadata": {},
   "outputs": [
    {
     "name": "stdout",
     "output_type": "stream",
     "text": [
      "被保留的特征索引：[ 0  1  2  3  4  6 10]\n"
     ]
    }
   ],
   "source": [
    "# 方差法判断特征是否发散\n",
    "selector = VarianceThreshold(threshold=0.5)\n",
    "selected_matrix = selector.fit_transform(matrix)\n",
    "selected_idx = selector.get_support(indices=True)\n",
    "print(f'被保留的特征索引：{selected_idx}')"
   ]
  },
  {
   "cell_type": "code",
   "execution_count": 285,
   "metadata": {},
   "outputs": [
    {
     "name": "stdout",
     "output_type": "stream",
     "text": [
      "被保留的特征索引：[ 0  5  7 10 12 13 14 15 16 17]\n"
     ]
    },
    {
     "name": "stderr",
     "output_type": "stream",
     "text": [
      "c:\\Users\\86135\\AppData\\Local\\Programs\\Python\\Python310\\lib\\site-packages\\sklearn\\linear_model\\_logistic.py:814: ConvergenceWarning: lbfgs failed to converge (status=1):\n",
      "STOP: TOTAL NO. of ITERATIONS REACHED LIMIT.\n",
      "\n",
      "Increase the number of iterations (max_iter) or scale the data as shown in:\n",
      "    https://scikit-learn.org/stable/modules/preprocessing.html\n",
      "Please also refer to the documentation for alternative solver options:\n",
      "    https://scikit-learn.org/stable/modules/linear_model.html#logistic-regression\n",
      "  n_iter_i = _check_optimize_result(\n",
      "c:\\Users\\86135\\AppData\\Local\\Programs\\Python\\Python310\\lib\\site-packages\\sklearn\\linear_model\\_logistic.py:814: ConvergenceWarning: lbfgs failed to converge (status=1):\n",
      "STOP: TOTAL NO. of ITERATIONS REACHED LIMIT.\n",
      "\n",
      "Increase the number of iterations (max_iter) or scale the data as shown in:\n",
      "    https://scikit-learn.org/stable/modules/preprocessing.html\n",
      "Please also refer to the documentation for alternative solver options:\n",
      "    https://scikit-learn.org/stable/modules/linear_model.html#logistic-regression\n",
      "  n_iter_i = _check_optimize_result(\n",
      "c:\\Users\\86135\\AppData\\Local\\Programs\\Python\\Python310\\lib\\site-packages\\sklearn\\linear_model\\_logistic.py:814: ConvergenceWarning: lbfgs failed to converge (status=1):\n",
      "STOP: TOTAL NO. of ITERATIONS REACHED LIMIT.\n",
      "\n",
      "Increase the number of iterations (max_iter) or scale the data as shown in:\n",
      "    https://scikit-learn.org/stable/modules/preprocessing.html\n",
      "Please also refer to the documentation for alternative solver options:\n",
      "    https://scikit-learn.org/stable/modules/linear_model.html#logistic-regression\n",
      "  n_iter_i = _check_optimize_result(\n"
     ]
    }
   ],
   "source": [
    "# 包装法判断与目标是否相关\n",
    "from sklearn.feature_selection import RFE\n",
    "from sklearn.linear_model import LogisticRegression\n",
    "selector = RFE(estimator=LogisticRegression(), n_features_to_select=10)\n",
    "selected_matrix = selector.fit_transform(matrix, train_data['Survived'])\n",
    "selected_idx = selector.get_support(indices=True)\n",
    "print(f'被保留的特征索引：{selected_idx}')"
   ]
  },
  {
   "cell_type": "code",
   "execution_count": 286,
   "metadata": {},
   "outputs": [
    {
     "name": "stdout",
     "output_type": "stream",
     "text": [
      "被保留的特征索引：[ 0  1  4 14]\n"
     ]
    }
   ],
   "source": [
    "# 嵌入法判断与目标是否相关\n",
    "from sklearn.feature_selection import SelectFromModel\n",
    "from sklearn.ensemble import GradientBoostingClassifier\n",
    "selector = SelectFromModel(estimator=GradientBoostingClassifier())\n",
    "selected_matrix = selector.fit_transform(matrix, train_data['Survived'])\n",
    "selected_idx = selector.get_support(indices=True)\n",
    "print(f'被保留的特征索引：{selected_idx}')"
   ]
  },
  {
   "cell_type": "markdown",
   "metadata": {},
   "source": [
    "### step3 特征降维\n",
    "* 观察到称谓和性别年龄、家庭大小和家庭人数兄弟姐妹数量等特征之间存在一定程度的雷同，因此选择LDA进行特征降维"
   ]
  },
  {
   "cell_type": "code",
   "execution_count": 287,
   "metadata": {},
   "outputs": [
    {
     "name": "stdout",
     "output_type": "stream",
     "text": [
      "被保留的特征索引：[[10  4  2  0 11  3 13 12  8  7 17  9 16  5 15 14  6  1]\n",
      " [ 0 14  5  9  8 12 16 17 15 13  7  2  3 11 10  6  1  4]]\n",
      "[[-26.09647033  -6.65954902]\n",
      " [ 38.4096831    7.60048656]\n",
      " [-25.31872111  -2.63621537]\n",
      " ...\n",
      " [ -9.71255022  -1.23678721]\n",
      " [ -3.20551719  -3.14665461]\n",
      " [-25.32872795   3.37682016]]\n"
     ]
    }
   ],
   "source": [
    "from sklearn.decomposition import PCA\n",
    "pca = PCA(n_components=2)\n",
    "pca.fit(matrix)\n",
    "pca_matrix = pca.transform(matrix)\n",
    "pca_matrix_idx = pca.components_.argsort()[::-1][:pca.n_components]\n",
    "print(f'被保留的特征索引：{pca_matrix_idx}')\n",
    "print(pca_matrix)"
   ]
  },
  {
   "cell_type": "code",
   "execution_count": 288,
   "metadata": {},
   "outputs": [
    {
     "name": "stdout",
     "output_type": "stream",
     "text": [
      "18\n",
      "1\n"
     ]
    }
   ],
   "source": [
    "from sklearn.discriminant_analysis import LinearDiscriminantAnalysis as LDA\n",
    "selector = LDA(n_components=1)\n",
    "selected_matrix = selector.fit_transform(feature_select, train_data['Survived'])\n",
    "print(feature_select.shape[1])\n",
    "print(selected_matrix.shape[1])"
   ]
  },
  {
   "cell_type": "markdown",
   "metadata": {},
   "source": [
    "## Ⅳ 模型构建及训练"
   ]
  },
  {
   "cell_type": "code",
   "execution_count": 289,
   "metadata": {},
   "outputs": [
    {
     "name": "stdout",
     "output_type": "stream",
     "text": [
      "     Pclass   Age  SibSp  Parch      Fare  Sex_num  Cabin_num  Embarked_C  \\\n",
      "0         3  34.5      0      0    7.8292        1          0           0   \n",
      "1         3  47.0      1      0    7.0000        0          0           0   \n",
      "2         2  62.0      0      0    9.6875        1          0           0   \n",
      "3         3  27.0      0      0    8.6625        1          0           0   \n",
      "4         3  22.0      1      1   12.2875        0          0           0   \n",
      "..      ...   ...    ...    ...       ...      ...        ...         ...   \n",
      "413       3  27.0      0      0    8.0500        1          0           0   \n",
      "414       1  39.0      0      0  108.9000        0          3           1   \n",
      "415       3  38.5      0      0    7.2500        1          0           0   \n",
      "416       3  27.0      0      0    8.0500        1          0           0   \n",
      "417       3  27.0      1      1   22.3583        1          0           1   \n",
      "\n",
      "     Embarked_Q  Embarked_S  FamilySize  FamilySizeD_num  Title_Master  \\\n",
      "0             1           0           1                1             0   \n",
      "1             0           1           2                2             0   \n",
      "2             1           0           1                1             0   \n",
      "3             0           1           1                1             0   \n",
      "4             0           1           3                2             0   \n",
      "..          ...         ...         ...              ...           ...   \n",
      "413           0           1           1                1             0   \n",
      "414           0           0           1                1             0   \n",
      "415           0           1           1                1             0   \n",
      "416           0           1           1                1             0   \n",
      "417           0           0           3                2             1   \n",
      "\n",
      "     Title_Miss  Title_Mr  Title_Mrs  Title_Officer  Title_Royalty  \n",
      "0             0         1          0              0              0  \n",
      "1             0         0          1              0              0  \n",
      "2             0         1          0              0              0  \n",
      "3             0         1          0              0              0  \n",
      "4             0         0          1              0              0  \n",
      "..          ...       ...        ...            ...            ...  \n",
      "413           0         1          0              0              0  \n",
      "414           0         0          0              0              0  \n",
      "415           0         1          0              0              0  \n",
      "416           0         1          0              0              0  \n",
      "417           0         0          0              0              0  \n",
      "\n",
      "[418 rows x 18 columns]\n"
     ]
    }
   ],
   "source": [
    "y = train_data[\"Survived\"]\n",
    "\n",
    "#features = [\"Pclass\",\"Sex\",\"SibSp\",\"Parch\"]\n",
    "X = pd.get_dummies(feature_select)\n",
    "X_test = pd.get_dummies(feature_select_test)\n",
    "\n",
    "model = RandomForestClassifier(n_estimators=100, max_depth=5, random_state=1)\n",
    "model.fit(X,y)\n",
    "print(X_test)\n",
    "predictions = model.predict(X_test)\n",
    "\n",
    "output = pd.DataFrame({'PassengerId': test_data.PassengerId, 'Survived': predictions})\n",
    "#output.to_csv('data/my_submission.csv', index=False)"
   ]
  },
  {
   "cell_type": "code",
   "execution_count": 290,
   "metadata": {},
   "outputs": [
    {
     "name": "stdout",
     "output_type": "stream",
     "text": [
      "     Pclass   Age  SibSp  Parch      Fare  Sex_num  Cabin_num  Embarked_C  \\\n",
      "255       3  29.0      0      2   15.2458        0          0           1   \n",
      "172       3   1.0      1      1   11.1333        0          0           0   \n",
      "260       3  28.0      0      0    7.7500        1          0           0   \n",
      "697       3  28.0      0      0    7.7333        0          0           0   \n",
      "214       3  28.0      1      0    7.7500        1          0           0   \n",
      "..      ...   ...    ...    ...       ...      ...        ...         ...   \n",
      "587       1  60.0      1      1   79.2000        1          2           1   \n",
      "543       2  32.0      1      0   26.0000        1          0           0   \n",
      "442       3  25.0      1      0    7.7750        1          0           0   \n",
      "303       2  28.0      0      0   12.3500        0          5           0   \n",
      "689       1  15.0      0      1  211.3375        0          2           0   \n",
      "\n",
      "     Embarked_Q  Embarked_S  FamilySize  FamilySizeD_num  Title_Master  \\\n",
      "255           0           0           3                2             0   \n",
      "172           0           1           3                2             0   \n",
      "260           1           0           1                1             0   \n",
      "697           1           0           1                1             0   \n",
      "214           1           0           2                2             0   \n",
      "..          ...         ...         ...              ...           ...   \n",
      "587           0           0           3                2             0   \n",
      "543           0           1           2                2             0   \n",
      "442           0           1           2                2             0   \n",
      "303           1           0           1                1             0   \n",
      "689           0           1           2                2             0   \n",
      "\n",
      "     Title_Miss  Title_Mr  Title_Mrs  Title_Officer  Title_Royalty  \n",
      "255           0         0          1              0              0  \n",
      "172           1         0          0              0              0  \n",
      "260           0         1          0              0              0  \n",
      "697           1         0          0              0              0  \n",
      "214           0         1          0              0              0  \n",
      "..          ...       ...        ...            ...            ...  \n",
      "587           0         1          0              0              0  \n",
      "543           0         1          0              0              0  \n",
      "442           0         1          0              0              0  \n",
      "303           1         0          0              0              0  \n",
      "689           1         0          0              0              0  \n",
      "\n",
      "[668 rows x 18 columns] 255    1\n",
      "172    1\n",
      "260    0\n",
      "697    1\n",
      "214    0\n",
      "      ..\n",
      "587    1\n",
      "543    1\n",
      "442    0\n",
      "303    1\n",
      "689    1\n",
      "Name: Survived, Length: 668, dtype: int64 \n",
      "\n",
      "     Pclass   Age  SibSp  Parch     Fare  Sex_num  Cabin_num  Embarked_C  \\\n",
      "865       2  42.0      0      0  13.0000        0          0           0   \n",
      "666       2  25.0      0      0  13.0000        1          0           0   \n",
      "131       3  20.0      0      0   7.0500        1          0           0   \n",
      "219       2  30.0      0      0  10.5000        1          0           0   \n",
      "728       2  25.0      1      0  26.0000        1          0           0   \n",
      "..      ...   ...    ...    ...      ...      ...        ...         ...   \n",
      "276       3  45.0      0      0   7.7500        0          0           0   \n",
      "624       3  21.0      0      0  16.1000        1          0           0   \n",
      "77        3  28.0      0      0   8.0500        1          0           0   \n",
      "787       3   8.0      4      1  29.1250        1          0           0   \n",
      "702       3  18.0      0      1  14.4542        0          0           1   \n",
      "\n",
      "     Embarked_Q  Embarked_S  FamilySize  FamilySizeD_num  Title_Master  \\\n",
      "865           0           1           1                1             0   \n",
      "666           0           1           1                1             0   \n",
      "131           0           1           1                1             0   \n",
      "219           0           1           1                1             0   \n",
      "728           0           1           2                2             0   \n",
      "..          ...         ...         ...              ...           ...   \n",
      "276           0           1           1                1             0   \n",
      "624           0           1           1                1             0   \n",
      "77            0           1           1                1             0   \n",
      "787           1           0           6                3             1   \n",
      "702           0           0           2                2             0   \n",
      "\n",
      "     Title_Miss  Title_Mr  Title_Mrs  Title_Officer  Title_Royalty  \n",
      "865           0         0          1              0              0  \n",
      "666           0         1          0              0              0  \n",
      "131           0         1          0              0              0  \n",
      "219           0         1          0              0              0  \n",
      "728           0         1          0              0              0  \n",
      "..          ...       ...        ...            ...            ...  \n",
      "276           1         0          0              0              0  \n",
      "624           0         1          0              0              0  \n",
      "77            0         1          0              0              0  \n",
      "787           0         0          0              0              0  \n",
      "702           1         0          0              0              0  \n",
      "\n",
      "[223 rows x 18 columns] 865    1\n",
      "666    0\n",
      "131    0\n",
      "219    0\n",
      "728    0\n",
      "      ..\n",
      "276    0\n",
      "624    0\n",
      "77     0\n",
      "787    0\n",
      "702    0\n",
      "Name: Survived, Length: 223, dtype: int64\n"
     ]
    }
   ],
   "source": [
    "from sklearn.model_selection import train_test_split\n",
    "train_x, test_x, train_y, test_y = train_test_split(feature_select, train_data['Survived'])\n",
    "print(train_x, train_y, '\\n')\n",
    "print(test_x, test_y)\n",
    "\n",
    "#print(type(train_x))\n",
    "#print(type(train_y))"
   ]
  },
  {
   "cell_type": "code",
   "execution_count": 291,
   "metadata": {},
   "outputs": [
    {
     "name": "stdout",
     "output_type": "stream",
     "text": [
      "intercept:  1.44\n",
      "coef:  [-1.35779630e-01 -3.11881146e-03 -2.15649439e-02 -5.37675356e-03\n",
      "  2.45147124e-04 -6.72799575e-01  2.21155500e-02  3.44765641e-02\n",
      "  1.05594439e-02 -4.50360080e-02 -2.69416975e-02 -3.27221368e-02\n",
      "  5.20381904e-01 -2.35485162e-01 -8.99070688e-02 -1.31512455e-01\n",
      " -1.44977676e-01  8.15004568e-02]\n"
     ]
    },
    {
     "data": {
      "text/plain": [
       "0.38918030374917045"
      ]
     },
     "execution_count": 291,
     "metadata": {},
     "output_type": "execute_result"
    }
   ],
   "source": [
    "from sklearn import linear_model\n",
    "lin_reg = linear_model.LinearRegression()\n",
    "log_reg = linear_model.LogisticRegression(max_iter = 1000)\n",
    "\n",
    "lin_reg.fit(train_x, train_y)\n",
    "print(f'intercept: {lin_reg.intercept_: .2f}')\n",
    "print('coef: ',lin_reg.coef_)\n",
    "\n",
    "test_predict = lin_reg.predict(test_x)\n",
    "lin_reg.score(test_x, test_y)\n"
   ]
  },
  {
   "cell_type": "code",
   "execution_count": 292,
   "metadata": {},
   "outputs": [
    {
     "data": {
      "text/plain": [
       "0.820627802690583"
      ]
     },
     "execution_count": 292,
     "metadata": {},
     "output_type": "execute_result"
    }
   ],
   "source": [
    "log_reg.fit(train_x, train_y)\n",
    "#print('intercept:', log_reg.intercept_)\n",
    "#print('coef: ',log_reg.coef_)\n",
    "\n",
    "test_predict = log_reg.predict(test_x)\n",
    "log_reg.score(test_x, test_y)"
   ]
  },
  {
   "cell_type": "code",
   "execution_count": 293,
   "metadata": {},
   "outputs": [
    {
     "data": {
      "text/plain": [
       "0.7488789237668162"
      ]
     },
     "execution_count": 293,
     "metadata": {},
     "output_type": "execute_result"
    }
   ],
   "source": [
    "from sklearn.tree import DecisionTreeClassifier\n",
    "from sklearn.svm import LinearSVC\n",
    "\n",
    "decision_tree_classifier = DecisionTreeClassifier(criterion=\"entropy\")  #使用信息熵增益\n",
    "scv = LinearSVC()\n",
    "\n",
    "dcTree = decision_tree_classifier.fit(train_x, train_y)\n",
    "test_predict = decision_tree_classifier.predict(test_x)\n",
    "decision_tree_classifier.score(test_x, test_y)"
   ]
  },
  {
   "cell_type": "code",
   "execution_count": 294,
   "metadata": {},
   "outputs": [
    {
     "name": "stderr",
     "output_type": "stream",
     "text": [
      "c:\\Users\\86135\\AppData\\Local\\Programs\\Python\\Python310\\lib\\site-packages\\sklearn\\svm\\_base.py:1206: ConvergenceWarning: Liblinear failed to converge, increase the number of iterations.\n",
      "  warnings.warn(\n"
     ]
    },
    {
     "data": {
      "text/plain": [
       "0.8161434977578476"
      ]
     },
     "execution_count": 294,
     "metadata": {},
     "output_type": "execute_result"
    }
   ],
   "source": [
    "Lscv = scv.fit(train_x, train_y)\n",
    "test_predict = scv.predict(test_x)\n",
    "\n",
    "scv.score(test_x, test_y)"
   ]
  },
  {
   "cell_type": "code",
   "execution_count": 295,
   "metadata": {},
   "outputs": [],
   "source": [
    "#print(train_x.dtypes)\n",
    "#print(train_y.dtypes)\n",
    "# 将bool类型列转换为int64类型\n",
    "train_x['Embarked_C'] = train_x['Embarked_C'].astype(int)\n",
    "train_x['Embarked_Q'] = train_x['Embarked_Q'].astype(int)\n",
    "train_x['Embarked_S'] = train_x['Embarked_S'].astype(int)\n",
    "train_x['Title_Master'] = train_x['Title_Master'].astype(int)\n",
    "train_x['Title_Miss'] = train_x['Title_Miss'].astype(int)\n",
    "train_x['Title_Mr'] = train_x['Title_Mr'].astype(int)\n",
    "train_x['Title_Mrs'] = train_x['Title_Mrs'].astype(int)\n",
    "train_x['Title_Officer'] = train_x['Title_Officer'].astype(int)\n",
    "train_x['Title_Royalty'] = train_x['Title_Royalty'].astype(int)\n",
    "\n",
    "test_x['Embarked_C'] = test_x['Embarked_C'].astype(int)\n",
    "test_x['Embarked_Q'] = test_x['Embarked_Q'].astype(int)\n",
    "test_x['Embarked_S'] = test_x['Embarked_S'].astype(int)\n",
    "test_x['Title_Master'] = test_x['Title_Master'].astype(int)\n",
    "test_x['Title_Miss'] = test_x['Title_Miss'].astype(int)\n",
    "test_x['Title_Mr'] = test_x['Title_Mr'].astype(int)\n",
    "test_x['Title_Mrs'] = test_x['Title_Mrs'].astype(int)\n",
    "test_x['Title_Officer'] = test_x['Title_Officer'].astype(int)\n",
    "test_x['Title_Royalty'] = test_x['Title_Royalty'].astype(int)\n"
   ]
  },
  {
   "cell_type": "code",
   "execution_count": 296,
   "metadata": {},
   "outputs": [],
   "source": [
    "class Mish(nn.Module):\n",
    "    def __init__(self):\n",
    "        super().__init__()\n",
    "    def forward(self,x):\n",
    "        x = x * (torch.tanh(torch.nn.functional.softplus(x)))\n",
    "        return x\n",
    "    \n",
    "torch.manual_seed(0)\n",
    "\n",
    "class ThreeLinearModule(nn.Module):\n",
    "    def __init__(self):\n",
    "        super().__init__()\n",
    "        self.linear1 = nn.Linear(18,18)\n",
    "        self.mish1 = Mish()\n",
    "        self.linear2 = nn.Linear(18,8)\n",
    "        self.mish2 = Mish()\n",
    "        self.linear3 = nn.Linear(8,2)\n",
    "        self.softmax = nn.Softmax(dim = 1)\n",
    "        self.criterion = nn.CrossEntropyLoss() #定义交叉熵\n",
    "\n",
    "    def forward(self, x):   #定义一个全连接网络\n",
    "        lin1_out = self.linear1(x)\n",
    "        #print(type(lin1_out))\n",
    "        out1 = self.mish1(lin1_out)\n",
    "        out2 = self.mish2(self.linear2(out1))\n",
    "        return self.softmax(self.linear3(out2))\n",
    "    \n",
    "    def getloss(self,x,y):  #实现类的损失值计算接口\n",
    "        y_pred = self.forward(x)\n",
    "        loss = self.criterion(y_pred, y)\n",
    "        return loss"
   ]
  },
  {
   "cell_type": "code",
   "execution_count": 297,
   "metadata": {},
   "outputs": [
    {
     "name": "stderr",
     "output_type": "stream",
     "text": [
      "c:\\Users\\86135\\AppData\\Local\\Programs\\Python\\Python310\\lib\\site-packages\\tqdm\\auto.py:21: TqdmWarning: IProgress not found. Please update jupyter and ipywidgets. See https://ipywidgets.readthedocs.io/en/stable/user_install.html\n",
      "  from .autonotebook import tqdm as notebook_tqdm\n"
     ]
    },
    {
     "name": "stdout",
     "output_type": "stream",
     "text": [
      "Epoch 1/200 => Loss: 0.84\n",
      "Epoch 21/200 => Loss: 0.51\n",
      "Epoch 41/200 => Loss: 0.47\n",
      "Epoch 61/200 => Loss: 0.46\n",
      "Epoch 81/200 => Loss: 0.45\n",
      "Epoch 101/200 => Loss: 0.47\n",
      "Epoch 121/200 => Loss: 0.45\n",
      "Epoch 141/200 => Loss: 0.45\n",
      "Epoch 161/200 => Loss: 0.45\n",
      "Epoch 181/200 => Loss: 0.47\n",
      "Train Accuracy: 0.8622754491017964\n",
      "Test Accuracy: 0.8251121076233184\n"
     ]
    }
   ],
   "source": [
    "net = ThreeLinearModule()\n",
    "num_epochs = 200\n",
    "optimizer = torch.optim.Adam(net.parameters(),lr=0.04)\n",
    "\n",
    "#将输入样本转化为标量\n",
    "input_tensor = torch.from_numpy(train_x.to_numpy()).type(torch.FloatTensor)\n",
    "label_tensor = torch.from_numpy(train_y.to_numpy())\n",
    "losses = [] #定义损失值列表\n",
    "for epoch in range(num_epochs):\n",
    "    loss = net.getloss(input_tensor, label_tensor)\n",
    "    losses.append(loss.item())\n",
    "    optimizer.zero_grad() #清空之前的梯度\n",
    "    loss.backward() #反向传播损失值\n",
    "    optimizer.step() #更新参数\n",
    "    if epoch % 20 == 0:\n",
    "        print('Epoch {}/{} => Loss: {:.2f}'.format(epoch + 1, num_epochs, loss.item()))\n",
    "\n",
    "# 输出训练结果\n",
    "# tensor.detach():从计算图中脱离出来，返回一个新的tensor，新的tensor和原tensor共享数据内存，（这也就意味着修改一个tensor的值，另外一个也会改变），\n",
    "#                  但是不涉及梯度计算。在从tensor转换成为numpy的时候，如果转换前面的tensor在计算图里面（requires_grad = True），那么这个时候只能先进行detach操作才能转换成为numpy\n",
    "out_probs = net(input_tensor).detach().numpy()\n",
    "out_classes = np.argmax(out_probs, axis=1)\n",
    "print(\"Train Accuracy:\", sum(out_classes == train_y.values) / len(train_y.values))\n",
    " \n",
    "# 测试模型\n",
    "test_input_tensor = torch.from_numpy(test_x.to_numpy()).type(torch.FloatTensor)\n",
    "out_probs = net(test_input_tensor).detach().numpy()\n",
    "out_classes = np.argmax(out_probs, axis=1)\n",
    "print(\"Test Accuracy:\", sum(out_classes == test_y.to_numpy()) / len(test_y.to_numpy()))\n",
    "        "
   ]
  }
 ],
 "metadata": {
  "kernelspec": {
   "display_name": "Python 3",
   "language": "python",
   "name": "python3"
  },
  "language_info": {
   "codemirror_mode": {
    "name": "ipython",
    "version": 3
   },
   "file_extension": ".py",
   "mimetype": "text/x-python",
   "name": "python",
   "nbconvert_exporter": "python",
   "pygments_lexer": "ipython3",
   "version": "3.10.3"
  }
 },
 "nbformat": 4,
 "nbformat_minor": 2
}
