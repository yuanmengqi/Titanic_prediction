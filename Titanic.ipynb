{
 "cells": [
  {
   "cell_type": "markdown",
   "metadata": {},
   "source": [
    "# Titanic"
   ]
  },
  {
   "cell_type": "code",
   "execution_count": 177,
   "metadata": {},
   "outputs": [],
   "source": [
    "import numpy as np # linear algebra\n",
    "import pandas as pd # CSV file I/O\n",
    "import matplotlib.pyplot as plt\n",
    "from sklearn.ensemble import RandomForestClassifier\n",
    "from sklearn.feature_selection import VarianceThreshold"
   ]
  },
  {
   "cell_type": "markdown",
   "metadata": {},
   "source": [
    "## Ⅰ 数据采集及存储"
   ]
  },
  {
   "cell_type": "code",
   "execution_count": 178,
   "metadata": {},
   "outputs": [
    {
     "data": {
      "text/html": [
       "<div>\n",
       "<style scoped>\n",
       "    .dataframe tbody tr th:only-of-type {\n",
       "        vertical-align: middle;\n",
       "    }\n",
       "\n",
       "    .dataframe tbody tr th {\n",
       "        vertical-align: top;\n",
       "    }\n",
       "\n",
       "    .dataframe thead th {\n",
       "        text-align: right;\n",
       "    }\n",
       "</style>\n",
       "<table border=\"1\" class=\"dataframe\">\n",
       "  <thead>\n",
       "    <tr style=\"text-align: right;\">\n",
       "      <th></th>\n",
       "      <th>PassengerId</th>\n",
       "      <th>Survived</th>\n",
       "      <th>Pclass</th>\n",
       "      <th>Name</th>\n",
       "      <th>Sex</th>\n",
       "      <th>Age</th>\n",
       "      <th>SibSp</th>\n",
       "      <th>Parch</th>\n",
       "      <th>Ticket</th>\n",
       "      <th>Fare</th>\n",
       "      <th>Cabin</th>\n",
       "      <th>Embarked</th>\n",
       "    </tr>\n",
       "  </thead>\n",
       "  <tbody>\n",
       "    <tr>\n",
       "      <th>0</th>\n",
       "      <td>1</td>\n",
       "      <td>0</td>\n",
       "      <td>3</td>\n",
       "      <td>Braund, Mr. Owen Harris</td>\n",
       "      <td>male</td>\n",
       "      <td>22.0</td>\n",
       "      <td>1</td>\n",
       "      <td>0</td>\n",
       "      <td>A/5 21171</td>\n",
       "      <td>7.25</td>\n",
       "      <td>NaN</td>\n",
       "      <td>S</td>\n",
       "    </tr>\n",
       "  </tbody>\n",
       "</table>\n",
       "</div>"
      ],
      "text/plain": [
       "   PassengerId  Survived  Pclass                     Name   Sex   Age  SibSp  \\\n",
       "0            1         0       3  Braund, Mr. Owen Harris  male  22.0      1   \n",
       "\n",
       "   Parch     Ticket  Fare Cabin Embarked  \n",
       "0      0  A/5 21171  7.25   NaN        S  "
      ]
     },
     "execution_count": 178,
     "metadata": {},
     "output_type": "execute_result"
    }
   ],
   "source": [
    "train_data = pd.read_csv(\"data/train.csv\")\n",
    "test_data = pd.read_csv(\"data/test.csv\")\n",
    "train_data.head(1)"
   ]
  },
  {
   "cell_type": "code",
   "execution_count": 179,
   "metadata": {},
   "outputs": [
    {
     "data": {
      "text/html": [
       "<div>\n",
       "<style scoped>\n",
       "    .dataframe tbody tr th:only-of-type {\n",
       "        vertical-align: middle;\n",
       "    }\n",
       "\n",
       "    .dataframe tbody tr th {\n",
       "        vertical-align: top;\n",
       "    }\n",
       "\n",
       "    .dataframe thead th {\n",
       "        text-align: right;\n",
       "    }\n",
       "</style>\n",
       "<table border=\"1\" class=\"dataframe\">\n",
       "  <thead>\n",
       "    <tr style=\"text-align: right;\">\n",
       "      <th></th>\n",
       "      <th>PassengerId</th>\n",
       "      <th>Survived</th>\n",
       "      <th>Pclass</th>\n",
       "      <th>Age</th>\n",
       "      <th>SibSp</th>\n",
       "      <th>Parch</th>\n",
       "      <th>Fare</th>\n",
       "    </tr>\n",
       "  </thead>\n",
       "  <tbody>\n",
       "    <tr>\n",
       "      <th>count</th>\n",
       "      <td>891.000000</td>\n",
       "      <td>891.000000</td>\n",
       "      <td>891.000000</td>\n",
       "      <td>714.000000</td>\n",
       "      <td>891.000000</td>\n",
       "      <td>891.000000</td>\n",
       "      <td>891.000000</td>\n",
       "    </tr>\n",
       "    <tr>\n",
       "      <th>mean</th>\n",
       "      <td>446.000000</td>\n",
       "      <td>0.383838</td>\n",
       "      <td>2.308642</td>\n",
       "      <td>29.699118</td>\n",
       "      <td>0.523008</td>\n",
       "      <td>0.381594</td>\n",
       "      <td>32.204208</td>\n",
       "    </tr>\n",
       "    <tr>\n",
       "      <th>std</th>\n",
       "      <td>257.353842</td>\n",
       "      <td>0.486592</td>\n",
       "      <td>0.836071</td>\n",
       "      <td>14.526497</td>\n",
       "      <td>1.102743</td>\n",
       "      <td>0.806057</td>\n",
       "      <td>49.693429</td>\n",
       "    </tr>\n",
       "    <tr>\n",
       "      <th>min</th>\n",
       "      <td>1.000000</td>\n",
       "      <td>0.000000</td>\n",
       "      <td>1.000000</td>\n",
       "      <td>0.420000</td>\n",
       "      <td>0.000000</td>\n",
       "      <td>0.000000</td>\n",
       "      <td>0.000000</td>\n",
       "    </tr>\n",
       "    <tr>\n",
       "      <th>25%</th>\n",
       "      <td>223.500000</td>\n",
       "      <td>0.000000</td>\n",
       "      <td>2.000000</td>\n",
       "      <td>20.125000</td>\n",
       "      <td>0.000000</td>\n",
       "      <td>0.000000</td>\n",
       "      <td>7.910400</td>\n",
       "    </tr>\n",
       "    <tr>\n",
       "      <th>50%</th>\n",
       "      <td>446.000000</td>\n",
       "      <td>0.000000</td>\n",
       "      <td>3.000000</td>\n",
       "      <td>28.000000</td>\n",
       "      <td>0.000000</td>\n",
       "      <td>0.000000</td>\n",
       "      <td>14.454200</td>\n",
       "    </tr>\n",
       "    <tr>\n",
       "      <th>75%</th>\n",
       "      <td>668.500000</td>\n",
       "      <td>1.000000</td>\n",
       "      <td>3.000000</td>\n",
       "      <td>38.000000</td>\n",
       "      <td>1.000000</td>\n",
       "      <td>0.000000</td>\n",
       "      <td>31.000000</td>\n",
       "    </tr>\n",
       "    <tr>\n",
       "      <th>max</th>\n",
       "      <td>891.000000</td>\n",
       "      <td>1.000000</td>\n",
       "      <td>3.000000</td>\n",
       "      <td>80.000000</td>\n",
       "      <td>8.000000</td>\n",
       "      <td>6.000000</td>\n",
       "      <td>512.329200</td>\n",
       "    </tr>\n",
       "  </tbody>\n",
       "</table>\n",
       "</div>"
      ],
      "text/plain": [
       "       PassengerId    Survived      Pclass         Age       SibSp  \\\n",
       "count   891.000000  891.000000  891.000000  714.000000  891.000000   \n",
       "mean    446.000000    0.383838    2.308642   29.699118    0.523008   \n",
       "std     257.353842    0.486592    0.836071   14.526497    1.102743   \n",
       "min       1.000000    0.000000    1.000000    0.420000    0.000000   \n",
       "25%     223.500000    0.000000    2.000000   20.125000    0.000000   \n",
       "50%     446.000000    0.000000    3.000000   28.000000    0.000000   \n",
       "75%     668.500000    1.000000    3.000000   38.000000    1.000000   \n",
       "max     891.000000    1.000000    3.000000   80.000000    8.000000   \n",
       "\n",
       "            Parch        Fare  \n",
       "count  891.000000  891.000000  \n",
       "mean     0.381594   32.204208  \n",
       "std      0.806057   49.693429  \n",
       "min      0.000000    0.000000  \n",
       "25%      0.000000    7.910400  \n",
       "50%      0.000000   14.454200  \n",
       "75%      0.000000   31.000000  \n",
       "max      6.000000  512.329200  "
      ]
     },
     "execution_count": 179,
     "metadata": {},
     "output_type": "execute_result"
    }
   ],
   "source": [
    "train_data.describe()"
   ]
  },
  {
   "cell_type": "markdown",
   "metadata": {},
   "source": [
    "## Ⅱ 数据预处理\n",
    "* 数据清洗\n",
    "数据集成\n",
    "数据变换\n",
    "数据规约\n",
    "* 数据缺失\n",
    "重复\n",
    "不同计量单位\n",
    "噪声"
   ]
  },
  {
   "cell_type": "markdown",
   "metadata": {},
   "source": [
    "### step1 数据清理——处理缺失数据"
   ]
  },
  {
   "cell_type": "code",
   "execution_count": 180,
   "metadata": {},
   "outputs": [
    {
     "data": {
      "text/plain": [
       "PassengerId      0\n",
       "Pclass           0\n",
       "Name             0\n",
       "Sex              0\n",
       "Age             86\n",
       "SibSp            0\n",
       "Parch            0\n",
       "Ticket           0\n",
       "Fare             1\n",
       "Cabin          327\n",
       "Embarked         0\n",
       "dtype: int64"
      ]
     },
     "execution_count": 180,
     "metadata": {},
     "output_type": "execute_result"
    }
   ],
   "source": [
    "train_data.isna().sum()\n",
    "test_data.isna().sum()"
   ]
  },
  {
   "cell_type": "code",
   "execution_count": 181,
   "metadata": {},
   "outputs": [],
   "source": [
    "# 为fare填充缺失值\n",
    "test_data['Fare'].fillna(test_data['Fare'].median(), inplace=True)"
   ]
  },
  {
   "cell_type": "code",
   "execution_count": 182,
   "metadata": {},
   "outputs": [
    {
     "data": {
      "text/plain": [
       "Embarked\n",
       "S    644\n",
       "C    168\n",
       "Q     77\n",
       "Name: count, dtype: int64"
      ]
     },
     "execution_count": 182,
     "metadata": {},
     "output_type": "execute_result"
    }
   ],
   "source": [
    "# 查看embarked的取值分布\n",
    "train_data['Embarked'].value_counts()"
   ]
  },
  {
   "cell_type": "code",
   "execution_count": 183,
   "metadata": {},
   "outputs": [],
   "source": [
    "# 缺失embarked的数据较少（只有两条），用众数填充\n",
    "train_data['Embarked'].fillna(train_data['Embarked'].mode()[0], inplace=True)\n",
    "train_data['Embarked'].fillna(train_data['Embarked'].mode()[0], inplace=True)"
   ]
  },
  {
   "cell_type": "code",
   "execution_count": 184,
   "metadata": {},
   "outputs": [
    {
     "data": {
      "image/png": "[encoded data removed]",
      "text/plain": [
       "<Figure size 640x480 with 1 Axes>"
      ]
     },
     "metadata": {},
     "output_type": "display_data"
    }
   ],
   "source": [
    "# 查看年龄分布\n",
    "train_data['Age'].hist(bins=70)\n",
    "# 选择用中位数填充年龄\n",
    "# TODO:年龄缺失较多，用KNN/EM/热卡填充预测年龄\n",
    "train_data['Age'].fillna(train_data['Age'].median(), inplace=True)\n",
    "test_data['Age'].fillna(test_data['Age'].median(), inplace=True)"
   ]
  },
  {
   "cell_type": "code",
   "execution_count": 185,
   "metadata": {},
   "outputs": [],
   "source": [
    "# cabin数据缺失太多，先暂时不填充，待特征工程时再决定如何处理"
   ]
  },
  {
   "cell_type": "markdown",
   "metadata": {},
   "source": [
    "### 数据清理——噪声处理\n",
    "* 经检验，数据非常整齐，没有明显噪声"
   ]
  },
  {
   "cell_type": "code",
   "execution_count": 186,
   "metadata": {},
   "outputs": [
    {
     "name": "stdout",
     "output_type": "stream",
     "text": [
      "passengerId各不相同：True\n",
      "\n",
      "Survived 可能的取值：\n",
      "Survived\n",
      "0    549\n",
      "1    342\n",
      "Name: count, dtype: int64\n",
      "\n",
      "Pclass 可能的取值：\n",
      "Pclass\n",
      "3    491\n",
      "1    216\n",
      "2    184\n",
      "Name: count, dtype: int64\n",
      "\n",
      "Name各不相同：True\n",
      "\n",
      "Sex 可能的取值：\n",
      "Sex\n",
      "male      577\n",
      "female    314\n",
      "Name: count, dtype: int64\n",
      "\n",
      "Age 可能的取值范围：0.42~80.0\n",
      "\n",
      "SibSp 可能的取值：\n",
      "SibSp\n",
      "0    608\n",
      "1    209\n",
      "2     28\n",
      "4     18\n",
      "3     16\n",
      "8      7\n",
      "5      5\n",
      "Name: count, dtype: int64\n",
      "\n",
      "Parch 可能的取值：\n",
      "Parch\n",
      "0    678\n",
      "1    118\n",
      "2     80\n",
      "5      5\n",
      "3      5\n",
      "4      4\n",
      "6      1\n",
      "Name: count, dtype: int64\n",
      "\n",
      "Ticket 可能的取值：\n",
      "Ticket\n",
      "347082      7\n",
      "CA. 2343    7\n",
      "1601        7\n",
      "3101295     6\n",
      "CA 2144     6\n",
      "           ..\n",
      "9234        1\n",
      "19988       1\n",
      "2693        1\n",
      "PC 17612    1\n",
      "370376      1\n",
      "Name: count, Length: 681, dtype: int64\n",
      "\n",
      "Fare 可能的取值范围：0.0~512.3292\n",
      "\n",
      "Cabin 可能的取值：\n",
      "Cabin\n",
      "B96 B98        4\n",
      "G6             4\n",
      "C23 C25 C27    4\n",
      "C22 C26        3\n",
      "F33            3\n",
      "              ..\n",
      "E34            1\n",
      "C7             1\n",
      "C54            1\n",
      "E36            1\n",
      "C148           1\n",
      "Name: count, Length: 147, dtype: int64\n",
      "\n",
      "Embarked 可能的取值：\n",
      "Embarked\n",
      "S    646\n",
      "C    168\n",
      "Q     77\n",
      "Name: count, dtype: int64\n",
      "\n"
     ]
    }
   ],
   "source": [
    "# 观察各特征值有无异常值\n",
    "a = train_data['PassengerId'].nunique() == train_data.shape[0]\n",
    "print(f'passengerId各不相同：{a}\\n')\n",
    "b = train_data['Survived'].value_counts()\n",
    "print(f'Survived 可能的取值：\\n{b}\\n')\n",
    "c = train_data['Pclass'].value_counts()\n",
    "print(f'Pclass 可能的取值：\\n{c}\\n')\n",
    "d = train_data[\"Name\"].nunique() == train_data.shape[0]\n",
    "print(f'Name各不相同：{d}\\n')\n",
    "e = train_data[\"Sex\"].value_counts()\n",
    "print(f'Sex 可能的取值：\\n{e}\\n')\n",
    "f = train_data[\"Age\"].min()\n",
    "g = train_data[\"Age\"].max()\n",
    "print(f'Age 可能的取值范围：{f}~{g}\\n')\n",
    "h = train_data[\"SibSp\"].value_counts()\n",
    "print(f'SibSp 可能的取值：\\n{h}\\n')\n",
    "i = train_data[\"Parch\"].value_counts()\n",
    "print(f'Parch 可能的取值：\\n{i}\\n')\n",
    "j = train_data[\"Ticket\"].value_counts()\n",
    "print(f'Ticket 可能的取值：\\n{j}\\n')\n",
    "k = train_data[\"Fare\"].min()\n",
    "l = train_data[\"Fare\"].max()\n",
    "print(f'Fare 可能的取值范围：{k}~{l}\\n')\n",
    "m = train_data[\"Cabin\"].value_counts()\n",
    "print(f'Cabin 可能的取值：\\n{m}\\n')\n",
    "n = train_data[\"Embarked\"].value_counts()\n",
    "print(f'Embarked 可能的取值：\\n{n}\\n')\n",
    "\n",
    "# 未发现数据中含有异常值：\n",
    "# 年龄票价等连续值均大于0且取值符合常理\n",
    "# 离散值类型一致，不存在数字和字符串混合的情况；id等唯一值各不相同\n"
   ]
  },
  {
   "cell_type": "markdown",
   "metadata": {},
   "source": [
    "### step2 数据集成\n",
    "* 只有一个数据源，无需集成\n",
    "\n",
    "### step3 数据变换\n",
    "* 规范化、离散化"
   ]
  },
  {
   "cell_type": "code",
   "execution_count": 187,
   "metadata": {},
   "outputs": [
    {
     "data": {
      "text/plain": [
       "'\\ntrain_norm = train_data.copy()\\ntest_norm = test_data.copy()\\nprint(train_norm[\"Age\"])\\n'"
      ]
     },
     "execution_count": 187,
     "metadata": {},
     "output_type": "execute_result"
    }
   ],
   "source": [
    "# 决策树、随机森林对数据的原始尺度不敏感，可能不需要归一化、离散化\n",
    "# SVM、KNN、xgboost等模型对数据的尺度敏感，需要归一化、离散化\n",
    "\"\"\"\n",
    "train_norm = train_data.copy()\n",
    "test_norm = test_data.copy()\n",
    "print(train_norm[\"Age\"])\n",
    "\"\"\"\n"
   ]
  },
  {
   "cell_type": "markdown",
   "metadata": {},
   "source": [
    "### step4 数据规约"
   ]
  },
  {
   "cell_type": "code",
   "execution_count": null,
   "metadata": {},
   "outputs": [],
   "source": [
    "\n"
   ]
  },
  {
   "cell_type": "markdown",
   "metadata": {},
   "source": [
    "## Ⅲ 特征工程"
   ]
  },
  {
   "cell_type": "markdown",
   "metadata": {},
   "source": [
    "### step1 观察、构建特征"
   ]
  },
  {
   "cell_type": "code",
   "execution_count": 188,
   "metadata": {},
   "outputs": [
    {
     "data": {
      "image/png": "[encoded data removed]",
      "text/plain": [
       "<Figure size 640x480 with 1 Axes>"
      ]
     },
     "metadata": {},
     "output_type": "display_data"
    }
   ],
   "source": [
    "pclass_1 = train_data[train_data.Pclass == 1]\n",
    "pclass_2 = train_data[train_data.Pclass == 2]\n",
    "pclass_3 = train_data[train_data.Pclass == 3]\n",
    "sum_1 = pclass_1.shape[0]\n",
    "sum_2 = pclass_2.shape[0]\n",
    "sum_3 = pclass_3.shape[0]\n",
    "survived_1 = pclass_1[pclass_1.Survived == 1].shape[0]\n",
    "survived_2 = pclass_2[pclass_2.Survived == 1].shape[0]\n",
    "survived_3 = pclass_3[pclass_3.Survived == 1].shape[0]\n",
    "survived_rate_1 = survived_1 / sum_1\n",
    "survived_rate_2 = survived_2 / sum_2\n",
    "survived_rate_3 = survived_3 / sum_3\n",
    "plt.bar([1,2,3],[survived_rate_1,survived_rate_2,survived_rate_3])\n",
    "plt.xlabel('Pclass')\n",
    "plt.ylabel('Survive_rate')\n",
    "plt.show()\n",
    "# 观察的结果是：Pclass越高，存活率越高"
   ]
  },
  {
   "cell_type": "code",
   "execution_count": 189,
   "metadata": {},
   "outputs": [
    {
     "data": {
      "image/png": "[encoded data removed]",
      "text/plain": [
       "<Figure size 640x480 with 1 Axes>"
      ]
     },
     "metadata": {},
     "output_type": "display_data"
    }
   ],
   "source": [
    "male = train_data[train_data.Sex == 'male']\n",
    "female = train_data[train_data.Sex == 'female']\n",
    "sum1 = male.shape[0]\n",
    "sum2 = female.shape[0]\n",
    "survived_m = male[male.Survived == 1].shape[0]\n",
    "survived_f = female[female.Survived == 1].shape[0]\n",
    "survived_rate_m = survived_m / sum1\n",
    "survived_rate_f = survived_f / sum2\n",
    "plt.bar(['male','female'],[survived_rate_m,survived_rate_f])\n",
    "plt.xlabel('gender')\n",
    "plt.ylabel('Survive_rate')\n",
    "plt.show()\n",
    "# 观察的结果是：女性存活率更高\n",
    "\n",
    "\n",
    "# 转化sex为0-1\n",
    "train_data['Sex_num'] = train_data['Sex'].replace({'male':1,'female':0})\n",
    "train_data.head(5)\n",
    "test_data['Sex_num'] = test_data['Sex'].replace({'male':1,'female':0})"
   ]
  },
  {
   "cell_type": "code",
   "execution_count": 190,
   "metadata": {},
   "outputs": [
    {
     "name": "stderr",
     "output_type": "stream",
     "text": [
      "C:\\Users\\masr1\\AppData\\Local\\Temp\\ipykernel_1800\\3603660146.py:5: FutureWarning: The default of observed=False is deprecated and will be changed to True in a future version of pandas. Pass observed=False to retain current behavior or observed=True to adopt the future default and silence this warning.\n",
      "  survive = train_data[train_data[\"Survived\"] == 1].groupby('age_cul').size().values\n"
     ]
    },
    {
     "data": {
      "image/png": "[encoded data removed]",
      "text/plain": [
       "<Figure size 640x480 with 1 Axes>"
      ]
     },
     "metadata": {},
     "output_type": "display_data"
    },
    {
     "data": {
      "image/png": "[encoded data removed]",
      "text/plain": [
       "<Figure size 640x480 with 1 Axes>"
      ]
     },
     "metadata": {},
     "output_type": "display_data"
    },
    {
     "data": {
      "text/plain": [
       "\"survived_list = train_data.Survived.tolist()\\nage_list = train_data.Age.tolist()\\nplt.scatter(age_list, survived_list)\\nplt.xlabel('Age')\\nplt.ylabel('Survive_ornot')\\nplt.show()\\n# 观察的结果是：年龄越小，存活人数越多\""
      ]
     },
     "execution_count": 190,
     "metadata": {},
     "output_type": "execute_result"
    }
   ],
   "source": [
    "age = train_data[\"Age\"].values\n",
    "bin_width = 10\n",
    "num_bins = int((age.max() - age.min()) / bin_width)\n",
    "train_data['age_cul'] = pd.cut(age, num_bins)\n",
    "survive = train_data[train_data[\"Survived\"] == 1].groupby('age_cul').size().values\n",
    "hist, bins = np.histogram(age, bins=num_bins)\n",
    "survive_rate = survive / hist\n",
    "survive_rate = np.nan_to_num(survive_rate)\n",
    "\n",
    "width = 0.35 * (bins[1] - bins[0])\n",
    "plt.bar(bins[:-1], hist, width=width, label='total')\n",
    "plt.bar(bins[:-1] + width, survive, width=width, label='survived')\n",
    "plt.xlabel('Age')\n",
    "plt.ylabel('Count')\n",
    "plt.legend()\n",
    "plt.show()\n",
    "\n",
    "plt.plot(bins[:-1], survive_rate)\n",
    "plt.xlabel('Age')\n",
    "plt.ylabel('Survive Rate')\n",
    "plt.show()\n",
    "\n",
    "'''survived_list = train_data.Survived.tolist()\n",
    "age_list = train_data.Age.tolist()\n",
    "plt.scatter(age_list, survived_list)\n",
    "plt.xlabel('Age')\n",
    "plt.ylabel('Survive_ornot')\n",
    "plt.show()\n",
    "# 观察的结果是：年龄越小，存活人数越多'''"
   ]
  },
  {
   "cell_type": "code",
   "execution_count": 191,
   "metadata": {},
   "outputs": [
    {
     "data": {
      "image/png": "[encoded data removed]",
      "text/plain": [
       "<Figure size 640x480 with 1 Axes>"
      ]
     },
     "metadata": {},
     "output_type": "display_data"
    }
   ],
   "source": [
    "sib1 = train_data[train_data.SibSp == 0]\n",
    "sib2 = train_data[train_data.SibSp == 1]\n",
    "sib3 = train_data[train_data.SibSp == 2]\n",
    "sib4 = train_data[train_data.SibSp == 3]\n",
    "sib5 = train_data[train_data.SibSp == 4]\n",
    "sib6 = train_data[train_data.SibSp == 5]\n",
    "sib7 = train_data[train_data.SibSp == 8]\n",
    "survived_rate_1 = sib1[sib1.Survived == 1].shape[0] / sib1.shape[0]\n",
    "survived_rate_2 = sib2[sib2.Survived == 1].shape[0] / sib2.shape[0]\n",
    "survived_rate_3 = sib3[sib3.Survived == 1].shape[0] / sib3.shape[0]\n",
    "survived_rate_4 = sib4[sib4.Survived == 1].shape[0] / sib4.shape[0]\n",
    "survived_rate_5 = sib5[sib5.Survived == 1].shape[0] / sib5.shape[0]\n",
    "survived_rate_6 = sib6[sib6.Survived == 1].shape[0] / sib6.shape[0]\n",
    "survived_rate_7 = sib7[sib7.Survived == 1].shape[0] / sib7.shape[0]\n",
    "plt.plot([0,1,2,3,4,5,8],[survived_rate_1,survived_rate_2,survived_rate_3,survived_rate_4,survived_rate_5,survived_rate_6,survived_rate_7])\n",
    "plt.xlabel('SibSp')\n",
    "plt.ylabel('Survive_rate')\n",
    "plt.show()"
   ]
  },
  {
   "cell_type": "code",
   "execution_count": 192,
   "metadata": {},
   "outputs": [
    {
     "data": {
      "image/png": "[encoded data removed]",
      "text/plain": [
       "<Figure size 640x480 with 1 Axes>"
      ]
     },
     "metadata": {},
     "output_type": "display_data"
    }
   ],
   "source": [
    "survive_parch1 = train_data[train_data.Parch == 0][train_data[train_data.Parch == 0].Survived == 1].shape[0] / train_data[train_data.Parch == 0].shape[0]\n",
    "survive_parch2 = train_data[train_data.Parch == 1][train_data[train_data.Parch == 1].Survived == 1].shape[0] / train_data[train_data.Parch == 1].shape[0]\n",
    "survive_parch3 = train_data[train_data.Parch == 2][train_data[train_data.Parch == 2].Survived == 1].shape[0] / train_data[train_data.Parch == 2].shape[0]\n",
    "survive_parch4 = train_data[train_data.Parch == 3][train_data[train_data.Parch == 3].Survived == 1].shape[0] / train_data[train_data.Parch == 3].shape[0]\n",
    "survive_parch5 = train_data[train_data.Parch == 4][train_data[train_data.Parch == 4].Survived == 1].shape[0] / train_data[train_data.Parch == 4].shape[0]\n",
    "survive_parch6 = train_data[train_data.Parch == 5][train_data[train_data.Parch == 5].Survived == 1].shape[0] / train_data[train_data.Parch == 5].shape[0]\n",
    "survive_parch7 = train_data[train_data.Parch == 6][train_data[train_data.Parch == 6].Survived == 1].shape[0] / train_data[train_data.Parch == 6].shape[0]\n",
    "plt.bar([0,1,2,3,4,5,6],[survive_parch1,survive_parch2,survive_parch3,survive_parch4,survive_parch5,survive_parch6,survive_parch7])\n",
    "plt.xlabel('Parch')\n",
    "plt.ylabel('Survive_rate')\n",
    "plt.show()"
   ]
  },
  {
   "cell_type": "code",
   "execution_count": 193,
   "metadata": {},
   "outputs": [
    {
     "name": "stderr",
     "output_type": "stream",
     "text": [
      "C:\\Users\\masr1\\AppData\\Local\\Temp\\ipykernel_1800\\2224884382.py:5: FutureWarning: The default of observed=False is deprecated and will be changed to True in a future version of pandas. Pass observed=False to retain current behavior or observed=True to adopt the future default and silence this warning.\n",
      "  survive = train_data[train_data[\"Survived\"] == 1].groupby('price_cul').size()\n",
      "C:\\Users\\masr1\\AppData\\Local\\Temp\\ipykernel_1800\\2224884382.py:8: RuntimeWarning: invalid value encountered in divide\n",
      "  survive_rate = survive / hist\n"
     ]
    },
    {
     "data": {
      "image/png": "[encoded data removed]",
      "text/plain": [
       "<Figure size 640x480 with 1 Axes>"
      ]
     },
     "metadata": {},
     "output_type": "display_data"
    },
    {
     "data": {
      "image/png": "[encoded data removed]",
      "text/plain": [
       "<Figure size 640x480 with 1 Axes>"
      ]
     },
     "metadata": {},
     "output_type": "display_data"
    }
   ],
   "source": [
    "fare = train_data[\"Fare\"].values\n",
    "bin_width = 30\n",
    "num_bins = int((fare.max() - fare.min()) / bin_width) + 1\n",
    "train_data['price_cul'] = pd.cut(fare, bins=num_bins)\n",
    "survive = train_data[train_data[\"Survived\"] == 1].groupby('price_cul').size()\n",
    "survive = survive.values\n",
    "hist, bins = np.histogram(fare, bins=num_bins)\n",
    "survive_rate = survive / hist\n",
    "survive_rate = np.nan_to_num(survive_rate)\n",
    "\n",
    "width = 0.35*bin_width\n",
    "plt.bar(bins[:-1], hist, width=width, label='total')\n",
    "plt.bar(bins[:-1] + width, survive, width=width, label='survive')\n",
    "plt.xlabel('Fare')\n",
    "plt.ylabel('Count')\n",
    "plt.legend()\n",
    "plt.show()\n",
    "\n",
    "\n",
    "plt.plot(bins[:-1], survive_rate)\n",
    "plt.xlabel('Fare')\n",
    "plt.ylabel('Survive_rate')\n",
    "plt.show()"
   ]
  },
  {
   "cell_type": "code",
   "execution_count": 194,
   "metadata": {},
   "outputs": [
    {
     "data": {
      "image/png": "[encoded data removed]",
      "text/plain": [
       "<Figure size 640x480 with 1 Axes>"
      ]
     },
     "metadata": {},
     "output_type": "display_data"
    }
   ],
   "source": [
    "embrak1 = train_data[train_data.Embarked == 'S']\n",
    "embrak2 = train_data[train_data.Embarked == 'C']\n",
    "embrak3 = train_data[train_data.Embarked == 'Q']\n",
    "survive_rate_1 = embrak1[embrak1.Survived == 1].shape[0] / embrak1.shape[0]\n",
    "survive_rate_2 = embrak2[embrak2.Survived == 1].shape[0] / embrak2.shape[0]\n",
    "survive_rate_3 = embrak3[embrak3.Survived == 1].shape[0] / embrak3.shape[0]\n",
    "plt.bar(['S','C','Q'],[survive_rate_1,survive_rate_2,survive_rate_3])\n",
    "plt.xlabel('Embarked')\n",
    "plt.ylabel('Survive_rate')\n",
    "plt.show()\n"
   ]
  },
  {
   "cell_type": "code",
   "execution_count": 195,
   "metadata": {},
   "outputs": [
    {
     "data": {
      "text/plain": [
       "Cabin\n",
       "B96 B98        4\n",
       "G6             4\n",
       "C23 C25 C27    4\n",
       "C22 C26        3\n",
       "F33            3\n",
       "              ..\n",
       "E34            1\n",
       "C7             1\n",
       "C54            1\n",
       "E36            1\n",
       "C148           1\n",
       "Name: count, Length: 147, dtype: int64"
      ]
     },
     "execution_count": 195,
     "metadata": {},
     "output_type": "execute_result"
    }
   ],
   "source": [
    "# 查看cabin类型\n",
    "train_data['Cabin'].value_counts()"
   ]
  },
  {
   "cell_type": "code",
   "execution_count": 196,
   "metadata": {},
   "outputs": [],
   "source": [
    "# 发现cabin完全相同的数据很少，因此简化cabin为其首字母\n",
    "train_data['Cabin'] = train_data['Cabin'].str[0]\n",
    "train_data['Cabin'].value_counts()\n",
    "test_data['Cabin'] = test_data['Cabin'].str[0]"
   ]
  },
  {
   "cell_type": "code",
   "execution_count": 197,
   "metadata": {},
   "outputs": [
    {
     "data": {
      "image/png": "[encoded data removed]",
      "text/plain": [
       "<Figure size 640x480 with 1 Axes>"
      ]
     },
     "metadata": {},
     "output_type": "display_data"
    }
   ],
   "source": [
    "# 查看cabin与survived的关系大不大\n",
    "A = train_data[train_data.Cabin == 'A']\n",
    "B = train_data[train_data.Cabin == 'B']\n",
    "C = train_data[train_data.Cabin == 'C']\n",
    "D = train_data[train_data.Cabin == 'D']\n",
    "E = train_data[train_data.Cabin == 'E']\n",
    "F = train_data[train_data.Cabin == 'F']\n",
    "G = train_data[train_data.Cabin == 'G']\n",
    "T = train_data[train_data.Cabin == 'T']\n",
    "survived_rate_A = A[A.Survived == 1].shape[0] / A.shape[0]\n",
    "survived_rate_B = B[B.Survived == 1].shape[0] / B.shape[0]\n",
    "survived_rate_C = C[C.Survived == 1].shape[0] / C.shape[0]\n",
    "survived_rate_D = D[D.Survived == 1].shape[0] / D.shape[0]\n",
    "survived_rate_E = E[E.Survived == 1].shape[0] / E.shape[0]\n",
    "survived_rate_F = F[F.Survived == 1].shape[0] / F.shape[0]\n",
    "survived_rate_G = G[G.Survived == 1].shape[0] / G.shape[0]\n",
    "survived_rate_T = T[T.Survived == 1].shape[0] / T.shape[0]\n",
    "#print(survived_rate_A,survived_rate_B,survived_rate_C,survived_rate_D,survived_rate_E,survived_rate_F,survived_rate_G,survived_rate_T)\n",
    "plt.bar(['A','B','C','D','E','F','G','T'],[survived_rate_A,survived_rate_B,survived_rate_C,survived_rate_D,survived_rate_E,survived_rate_F,survived_rate_G,survived_rate_T])\n",
    "plt.xlabel('Cabin')\n",
    "plt.ylabel('Survive_rate')\n",
    "plt.show()\n"
   ]
  },
  {
   "cell_type": "code",
   "execution_count": 198,
   "metadata": {},
   "outputs": [
    {
     "data": {
      "image/png": "[encoded data removed]",
      "text/plain": [
       "<Figure size 640x480 with 1 Axes>"
      ]
     },
     "metadata": {},
     "output_type": "display_data"
    }
   ],
   "source": [
    "# 发现有cabin标记的数据存活率比总平均存活率高，因此将没有cabin标记的数据标记为‘N’\n",
    "train_data['Cabin'].fillna('N', inplace=True)\n",
    "\n",
    "N = train_data[train_data.Cabin == 'N']\n",
    "survived_rate_N = N[N.Survived == 1].shape[0] / N.shape[0]\n",
    "plt.bar(['A','B','C','D','E','F','G','T','N'],[survived_rate_A,survived_rate_B,survived_rate_C,survived_rate_D,survived_rate_E,survived_rate_F,survived_rate_G,survived_rate_T,survived_rate_N])\n",
    "plt.xlabel('Cabin')\n",
    "plt.ylabel('Survive_rate')\n",
    "plt.show()\n",
    "# 观察到N与其他cabin类别的差距和cabin类别间的差距没有很大，因此当前的划分方式比将cabin分为有无两类更合理\n",
    "\n",
    "# 转化值为数字\n",
    "train_data['Cabin_num'] = train_data['Cabin'].replace({'A':1,'B':2,'C':3,'D':4,'E':5,'F':6,'T':7,'G':8,'N':0})\n",
    "#train_data['Cabin']\n",
    "train_data['Cabin_num']\n",
    "\n",
    "test_data['Cabin'].fillna('N', inplace=True)\n",
    "test_data['Cabin_num'] = test_data['Cabin'].replace({'A':1,'B':2,'C':3,'D':4,'E':5,'F':6,'T':7,'G':8,'N':0})\n"
   ]
  },
  {
   "cell_type": "markdown",
   "metadata": {},
   "source": [
    "#### 独热编码\n",
    "* 将离散且标签间没有明显顺序关系的特征转化为独热编码\n",
    "  * 此处仅有embark符合这个条件"
   ]
  },
  {
   "cell_type": "code",
   "execution_count": 199,
   "metadata": {},
   "outputs": [
    {
     "data": {
      "text/html": [
       "<div>\n",
       "<style scoped>\n",
       "    .dataframe tbody tr th:only-of-type {\n",
       "        vertical-align: middle;\n",
       "    }\n",
       "\n",
       "    .dataframe tbody tr th {\n",
       "        vertical-align: top;\n",
       "    }\n",
       "\n",
       "    .dataframe thead th {\n",
       "        text-align: right;\n",
       "    }\n",
       "</style>\n",
       "<table border=\"1\" class=\"dataframe\">\n",
       "  <thead>\n",
       "    <tr style=\"text-align: right;\">\n",
       "      <th></th>\n",
       "      <th>PassengerId</th>\n",
       "      <th>Survived</th>\n",
       "      <th>Pclass</th>\n",
       "      <th>Name</th>\n",
       "      <th>Sex</th>\n",
       "      <th>Age</th>\n",
       "      <th>SibSp</th>\n",
       "      <th>Parch</th>\n",
       "      <th>Ticket</th>\n",
       "      <th>Fare</th>\n",
       "      <th>Cabin</th>\n",
       "      <th>Sex_num</th>\n",
       "      <th>age_cul</th>\n",
       "      <th>price_cul</th>\n",
       "      <th>Cabin_num</th>\n",
       "      <th>Embarked_C</th>\n",
       "      <th>Embarked_Q</th>\n",
       "      <th>Embarked_S</th>\n",
       "    </tr>\n",
       "  </thead>\n",
       "  <tbody>\n",
       "    <tr>\n",
       "      <th>0</th>\n",
       "      <td>1</td>\n",
       "      <td>0</td>\n",
       "      <td>3</td>\n",
       "      <td>Braund, Mr. Owen Harris</td>\n",
       "      <td>male</td>\n",
       "      <td>22.0</td>\n",
       "      <td>1</td>\n",
       "      <td>0</td>\n",
       "      <td>A/5 21171</td>\n",
       "      <td>7.25</td>\n",
       "      <td>N</td>\n",
       "      <td>1</td>\n",
       "      <td>(11.789, 23.157]</td>\n",
       "      <td>(-0.512, 28.463]</td>\n",
       "      <td>0</td>\n",
       "      <td>False</td>\n",
       "      <td>False</td>\n",
       "      <td>True</td>\n",
       "    </tr>\n",
       "  </tbody>\n",
       "</table>\n",
       "</div>"
      ],
      "text/plain": [
       "   PassengerId  Survived  Pclass                     Name   Sex   Age  SibSp  \\\n",
       "0            1         0       3  Braund, Mr. Owen Harris  male  22.0      1   \n",
       "\n",
       "   Parch     Ticket  Fare Cabin  Sex_num           age_cul         price_cul  \\\n",
       "0      0  A/5 21171  7.25     N        1  (11.789, 23.157]  (-0.512, 28.463]   \n",
       "\n",
       "   Cabin_num  Embarked_C  Embarked_Q  Embarked_S  \n",
       "0          0       False       False        True  "
      ]
     },
     "execution_count": 199,
     "metadata": {},
     "output_type": "execute_result"
    }
   ],
   "source": [
    "# embark拆分成三列\n",
    "train_data = pd.get_dummies(train_data, columns=['Embarked'])\n",
    "test_data = pd.get_dummies(test_data, columns=['Embarked'])\n",
    "train_data.head(1)"
   ]
  },
  {
   "cell_type": "markdown",
   "metadata": {},
   "source": [
    "#### 构建更有意义的特征\n",
    "* sibsp表示兄弟姐妹和配偶人数，parch表示父母和子女人数，两个特征求和再加自己表示家庭成员人数\n",
    "    * 1表示独自一人，2-3表示小家庭，4-7表示中等家庭，8以上表示大家庭\n",
    "  \n",
    "    用不同方式表示构建家庭成员人数的特征，观察哪种方式更合理"
   ]
  },
  {
   "cell_type": "code",
   "execution_count": 200,
   "metadata": {},
   "outputs": [
    {
     "data": {
      "text/plain": [
       "FamilySize\n",
       "1     537\n",
       "2     161\n",
       "3     102\n",
       "4      29\n",
       "6      22\n",
       "5      15\n",
       "7      12\n",
       "11      7\n",
       "8       6\n",
       "Name: count, dtype: int64"
      ]
     },
     "execution_count": 200,
     "metadata": {},
     "output_type": "execute_result"
    }
   ],
   "source": [
    "# 创建新特征：家庭成员数\n",
    "train_data['FamilySize'] = train_data['SibSp'] + train_data['Parch'] + 1\n",
    "test_data['FamilySize'] = test_data['SibSp'] + test_data['Parch'] + 1\n",
    "train_data['FamilySize'].value_counts()\n"
   ]
  },
  {
   "cell_type": "code",
   "execution_count": 201,
   "metadata": {},
   "outputs": [
    {
     "data": {
      "image/png": "[encoded data removed]",
      "text/plain": [
       "<Figure size 640x480 with 1 Axes>"
      ]
     },
     "metadata": {},
     "output_type": "display_data"
    }
   ],
   "source": [
    "survived_rate_1 = train_data[train_data.FamilySize == 1][train_data[train_data.FamilySize == 1].Survived == 1].shape[0] / train_data[train_data.FamilySize == 1].shape[0]\n",
    "survived_rate_2 = train_data[train_data.FamilySize == 2][train_data[train_data.FamilySize == 2].Survived == 1].shape[0] / train_data[train_data.FamilySize == 2].shape[0]\n",
    "survived_rate_3 = train_data[train_data.FamilySize == 3][train_data[train_data.FamilySize == 3].Survived == 1].shape[0] / train_data[train_data.FamilySize == 3].shape[0]\n",
    "survived_rate_4 = train_data[train_data.FamilySize == 4][train_data[train_data.FamilySize == 4].Survived == 1].shape[0] / train_data[train_data.FamilySize == 4].shape[0]\n",
    "survived_rate_5 = train_data[train_data.FamilySize == 5][train_data[train_data.FamilySize == 5].Survived == 1].shape[0] / train_data[train_data.FamilySize == 5].shape[0]\n",
    "survived_rate_6 = train_data[train_data.FamilySize == 6][train_data[train_data.FamilySize == 6].Survived == 1].shape[0] / train_data[train_data.FamilySize == 6].shape[0]\n",
    "survived_rate_7 = train_data[train_data.FamilySize == 7][train_data[train_data.FamilySize == 7].Survived == 1].shape[0] / train_data[train_data.FamilySize == 7].shape[0]\n",
    "survived_rate_8 = train_data[train_data.FamilySize == 8][train_data[train_data.FamilySize == 8].Survived == 1].shape[0] / train_data[train_data.FamilySize == 8].shape[0]\n",
    "survived_rate_11 = train_data[train_data.FamilySize == 11][train_data[train_data.FamilySize == 11].Survived == 1].shape[0] / train_data[train_data.FamilySize == 11].shape[0]\n",
    "plt.bar([1,2,3,4,5,6,7,8,11],[survived_rate_1,survived_rate_2,survived_rate_3,survived_rate_4,survived_rate_5,survived_rate_6,survived_rate_7,survived_rate_8,survived_rate_11])\n",
    "plt.xlabel('FamilySize')\n",
    "plt.ylabel('Survive_rate')\n",
    "plt.show()\n"
   ]
  },
  {
   "cell_type": "code",
   "execution_count": 202,
   "metadata": {},
   "outputs": [
    {
     "data": {
      "text/plain": [
       "FamilySizeDiscrete\n",
       "Alone     537\n",
       "Small     292\n",
       "Medium     49\n",
       "Large      13\n",
       "Name: count, dtype: int64"
      ]
     },
     "execution_count": 202,
     "metadata": {},
     "output_type": "execute_result"
    }
   ],
   "source": [
    "# 观察到家庭成员数为2~4时存活率较高，因此将家庭成员数分为4类：独自，小家庭，中等家庭，大家庭\n",
    "train_data['FamilySizeDiscrete'] = np.where((train_data['FamilySize'] == 1), 'Alone', '')\n",
    "train_data['FamilySizeDiscrete'] = np.where((train_data['FamilySize'] >= 2) & (train_data['FamilySize'] <= 4), 'Small', train_data['FamilySizeDiscrete'])\n",
    "train_data['FamilySizeDiscrete'] = np.where((train_data['FamilySize'] >= 5) & (train_data['FamilySize'] <= 7), 'Medium', train_data['FamilySizeDiscrete'])\n",
    "train_data['FamilySizeDiscrete'] = np.where((train_data['FamilySize'] >= 8), 'Large', train_data['FamilySizeDiscrete'])\n",
    "test_data['FamilySizeDiscrete'] = np.where((test_data['FamilySize'] == 1), 'Alone', '')\n",
    "test_data['FamilySizeDiscrete'] = np.where((test_data['FamilySize'] >= 2) & (test_data['FamilySize'] <= 4), 'Small', test_data['FamilySizeDiscrete'])\n",
    "test_data['FamilySizeDiscrete'] = np.where((test_data['FamilySize'] >= 5) & (test_data['FamilySize'] <= 7), 'Medium', test_data['FamilySizeDiscrete'])\n",
    "test_data['FamilySizeDiscrete'] = np.where((test_data['FamilySize'] >= 8), 'Large', test_data['FamilySizeDiscrete'])\n",
    "\n",
    "train_data['FamilySizeDiscrete'].value_counts()"
   ]
  },
  {
   "cell_type": "code",
   "execution_count": 203,
   "metadata": {},
   "outputs": [
    {
     "data": {
      "image/png": "[encoded data removed]",
      "text/plain": [
       "<Figure size 640x480 with 1 Axes>"
      ]
     },
     "metadata": {},
     "output_type": "display_data"
    },
    {
     "data": {
      "text/plain": [
       "0      2\n",
       "1      2\n",
       "2      1\n",
       "3      2\n",
       "4      1\n",
       "      ..\n",
       "886    1\n",
       "887    1\n",
       "888    2\n",
       "889    1\n",
       "890    1\n",
       "Name: FamilySizeD_num, Length: 891, dtype: int64"
      ]
     },
     "execution_count": 203,
     "metadata": {},
     "output_type": "execute_result"
    }
   ],
   "source": [
    "survive_a = train_data[train_data.FamilySizeDiscrete == 'Alone'][train_data[train_data.FamilySizeDiscrete == 'Alone'].Survived == 1].shape[0] / train_data[train_data.FamilySizeDiscrete == 'Alone'].shape[0]\n",
    "survive_s = train_data[train_data.FamilySizeDiscrete == 'Small'][train_data[train_data.FamilySizeDiscrete == 'Small'].Survived == 1].shape[0] / train_data[train_data.FamilySizeDiscrete == 'Small'].shape[0]\n",
    "survive_m = train_data[train_data.FamilySizeDiscrete == 'Medium'][train_data[train_data.FamilySizeDiscrete == 'Medium'].Survived == 1].shape[0] / train_data[train_data.FamilySizeDiscrete == 'Medium'].shape[0]\n",
    "survive_l = train_data[train_data.FamilySizeDiscrete == 'Large'][train_data[train_data.FamilySizeDiscrete == 'Large'].Survived == 1].shape[0] / train_data[train_data.FamilySizeDiscrete == 'Large'].shape[0]\n",
    "plt.bar(['Alone','Small','Medium','Large'],[survive_a,survive_s,survive_m,survive_l])\n",
    "plt.xlabel('FamilySizeDiscrete')\n",
    "plt.ylabel('Survive_rate')\n",
    "plt.show()\n",
    "train_data.head(1)\n",
    "\n",
    "# 转化为数字\n",
    "train_data['FamilySizeD_num'] = train_data['FamilySizeDiscrete'].replace({'Alone':1,'Small':2,'Medium':3,'Large':4})\n",
    "test_data['FamilySizeD_num'] = test_data['FamilySizeDiscrete'].replace({'Alone':1,'Small':2,'Medium':3,'Large':4})\n",
    "train_data['FamilySizeD_num']\n",
    "#train_data['FamilySizeDiscrete']"
   ]
  },
  {
   "cell_type": "markdown",
   "metadata": {},
   "source": [
    "#### 处理文字特征name\n",
    "* 由于单纯名字对判断生存率意义不大，因此选择对称谓分类"
   ]
  },
  {
   "cell_type": "code",
   "execution_count": 204,
   "metadata": {},
   "outputs": [
    {
     "data": {
      "text/plain": [
       "Title\n",
       "Mr              517\n",
       "Miss            182\n",
       "Mrs             125\n",
       "Master           40\n",
       "Dr                7\n",
       "Rev               6\n",
       "Mlle              2\n",
       "Major             2\n",
       "Col               2\n",
       "the Countess      1\n",
       "Capt              1\n",
       "Ms                1\n",
       "Sir               1\n",
       "Lady              1\n",
       "Mme               1\n",
       "Don               1\n",
       "Jonkheer          1\n",
       "Name: count, dtype: int64"
      ]
     },
     "execution_count": 204,
     "metadata": {},
     "output_type": "execute_result"
    }
   ],
   "source": [
    "# 首先对名字分词\n",
    "for index, row in train_data.iterrows():\n",
    "    name = row['Name'].split(',')[1].split('.')[0].strip()\n",
    "    train_data.loc[index, 'Title'] = name\n",
    "for index, row in test_data.iterrows():\n",
    "    name = row['Name'].split(',')[1].split('.')[0].strip()\n",
    "    test_data.loc[index, 'Title'] = name\n",
    "train_data['Title'].value_counts()"
   ]
  },
  {
   "cell_type": "code",
   "execution_count": 205,
   "metadata": {},
   "outputs": [
    {
     "data": {
      "text/plain": [
       "Title\n",
       "Mr         240\n",
       "Miss        78\n",
       "Mrs         73\n",
       "Master      21\n",
       "Officer      5\n",
       "Dona         1\n",
       "Name: count, dtype: int64"
      ]
     },
     "execution_count": 205,
     "metadata": {},
     "output_type": "execute_result"
    }
   ],
   "source": [
    "# 经查询知:\n",
    "# Mr:已婚男士\n",
    "# Mrs:已婚女士\n",
    "# Miss:未婚女士\n",
    "# Master:小男孩\n",
    "# Dr:医生\n",
    "# Rev:牧师\n",
    "# Col:陆军上校\n",
    "# Major:陆军少校\n",
    "# Mlle:法语“小姐”（Miss的法语缩写）\n",
    "# Ms:女士\n",
    "# Mme:法语“夫人”（Mrs的法语缩写）\n",
    "# Sir:爵士\n",
    "# Lady:女士\n",
    "# Countess:女伯爵\n",
    "# Don:西班牙语中的贵族称呼，相当于英语中的Sir\n",
    "# Jonkheer:荷兰语中的贵族称呼，相当于英语中的Sir\n",
    "# Capt:船长\n",
    "\n",
    "# 由此将称谓分为6类\n",
    "# Mr,\n",
    "# Mrs,Ms,Mme,Lady ==> Mrs\n",
    "# Miss,Mlle ==> Miss\n",
    "# Master,\n",
    "# Dr,Rev,Col,Major,Capt ==> Officer\n",
    "# Sir,Countess,Don,Jonkheer ==> Royalty\n",
    "\n",
    "train_data['Title'] = train_data['Title'].replace(['Ms', 'Mme', 'Lady'], 'Mrs')\n",
    "train_data['Title'] = train_data['Title'].replace(['Mlle'], 'Miss')\n",
    "train_data['Title'] = train_data['Title'].replace(['Dr', 'Rev', 'Col', 'Major', 'Capt'], 'Officer')\n",
    "train_data['Title'] = train_data['Title'].replace(['Sir', 'the Countess', 'Don', 'Jonkheer'], 'Royalty')\n",
    "test_data['Title'] = test_data['Title'].replace(['Ms', 'Mme', 'Lady'], 'Mrs')\n",
    "test_data['Title'] = test_data['Title'].replace(['Mlle'], 'Miss')\n",
    "test_data['Title'] = test_data['Title'].replace(['Dr', 'Rev', 'Col', 'Major', 'Capt'], 'Officer')\n",
    "test_data['Title'] = test_data['Title'].replace(['Sir', 'the Countess', 'Don', 'Jonkheer'], 'Royalty')\n",
    "\n",
    "test_data['Title'].value_counts()\n",
    "\n"
   ]
  },
  {
   "cell_type": "code",
   "execution_count": 206,
   "metadata": {},
   "outputs": [
    {
     "data": {
      "image/png": "[encoded data removed]",
      "text/plain": [
       "<Figure size 640x480 with 1 Axes>"
      ]
     },
     "metadata": {},
     "output_type": "display_data"
    },
    {
     "data": {
      "text/plain": [
       "Index(['PassengerId', 'Survived', 'Pclass', 'Name', 'Sex', 'Age', 'SibSp',\n",
       "       'Parch', 'Ticket', 'Fare', 'Cabin', 'Sex_num', 'age_cul', 'price_cul',\n",
       "       'Cabin_num', 'Embarked_C', 'Embarked_Q', 'Embarked_S', 'FamilySize',\n",
       "       'FamilySizeDiscrete', 'FamilySizeD_num', 'Title_Master', 'Title_Miss',\n",
       "       'Title_Mr', 'Title_Mrs', 'Title_Officer', 'Title_Royalty'],\n",
       "      dtype='object')"
      ]
     },
     "execution_count": 206,
     "metadata": {},
     "output_type": "execute_result"
    }
   ],
   "source": [
    "survive_mr = train_data[train_data.Title == 'Mr'][train_data[train_data.Title == 'Mr'].Survived == 1].shape[0] / train_data[train_data.Title == 'Mr'].shape[0]\n",
    "survive_mrs = train_data[train_data.Title == 'Mrs'][train_data[train_data.Title == 'Mrs'].Survived == 1].shape[0] / train_data[train_data.Title == 'Mrs'].shape[0]\n",
    "survive_miss = train_data[train_data.Title == 'Miss'][train_data[train_data.Title == 'Miss'].Survived == 1].shape[0] / train_data[train_data.Title == 'Miss'].shape[0]\n",
    "survive_master = train_data[train_data.Title == 'Master'][train_data[train_data.Title == 'Master'].Survived == 1].shape[0] / train_data[train_data.Title == 'Master'].shape[0]\n",
    "survive_officer = train_data[train_data.Title == 'Officer'][train_data[train_data.Title == 'Officer'].Survived == 1].shape[0] / train_data[train_data.Title == 'Officer'].shape[0]\n",
    "survive_royalty = train_data[train_data.Title == 'Royalty'][train_data[train_data.Title == 'Royalty'].Survived == 1].shape[0] / train_data[train_data.Title == 'Royalty'].shape[0]\n",
    "plt.bar(['Mr','Mrs','Miss','Master','Officer','Royalty'],[survive_mr,survive_mrs,survive_miss,survive_master,survive_officer,survive_royalty])\n",
    "plt.xlabel('Title')\n",
    "plt.ylabel('Survive_rate')\n",
    "plt.show()\n",
    "# 转化成one-hot编码\n",
    "train_data = pd.get_dummies(train_data, columns=['Title'])\n",
    "test_data = pd.get_dummies(test_data, columns=['Title'])\n",
    "# 为test补充Title_Royalty列\n",
    "test_data['Title_Royalty'] = 0\n",
    "train_data.columns"
   ]
  },
  {
   "cell_type": "markdown",
   "metadata": {},
   "source": [
    "### step2 选择特征\n",
    "* 'Pclass',  'Age', 'SibSp', 'Parch', 'Fare', 'Sex_num', 'Cabin_num', \n",
    "* 'Embarked_C', 'Embarked_Q', 'Embarked_S', 'FamilySize', 'FamilySizeD_num'\n",
    "* 'Title_Master', 'Title_Miss', 'Title_Mr', 'Title_Mrs', 'Title_Officer', 'Title_Royalty'"
   ]
  },
  {
   "cell_type": "code",
   "execution_count": 207,
   "metadata": {},
   "outputs": [
    {
     "data": {
      "text/plain": [
       "array([[3, 22.0, 1, ..., False, False, False],\n",
       "       [1, 38.0, 1, ..., True, False, False],\n",
       "       [3, 26.0, 0, ..., False, False, False],\n",
       "       ...,\n",
       "       [3, 28.0, 1, ..., False, False, False],\n",
       "       [1, 26.0, 0, ..., False, False, False],\n",
       "       [3, 32.0, 0, ..., False, False, False]], dtype=object)"
      ]
     },
     "execution_count": 207,
     "metadata": {},
     "output_type": "execute_result"
    }
   ],
   "source": [
    "feature_select = train_data.loc[:,['Pclass',  'Age', 'SibSp', 'Parch', 'Fare', 'Sex_num', 'Cabin_num', 'Embarked_C', 'Embarked_Q', 'Embarked_S', 'FamilySize', 'FamilySizeD_num', 'Title_Master', 'Title_Miss', 'Title_Mr', 'Title_Mrs', 'Title_Officer', 'Title_Royalty']]\n",
    "feature_select_test = test_data.loc[:,['Pclass',  'Age', 'SibSp', 'Parch', 'Fare', 'Sex_num', 'Cabin_num', 'Embarked_C', 'Embarked_Q', 'Embarked_S', 'FamilySize', 'FamilySizeD_num', 'Title_Master', 'Title_Miss', 'Title_Mr', 'Title_Mrs', 'Title_Officer', 'Title_Royalty']]\n",
    "#feature_select.drop(0)\n",
    "#feature_select\n",
    "matrix_raw = []\n",
    "for row in feature_select.iterrows():\n",
    "    matrix_raw.append(row[1].values)\n",
    "    #print(row[1].values)\n",
    "matrix = np.asarray(matrix_raw)\n",
    "matrix"
   ]
  },
  {
   "cell_type": "code",
   "execution_count": 208,
   "metadata": {},
   "outputs": [
    {
     "name": "stdout",
     "output_type": "stream",
     "text": [
      "被保留的特征索引：[ 0  1  2  3  4  6 10]\n"
     ]
    }
   ],
   "source": [
    "# 方差法判断特征是否发散\n",
    "selector = VarianceThreshold(threshold=0.5)\n",
    "selected_matrix = selector.fit_transform(matrix)\n",
    "selected_idx = selector.get_support(indices=True)\n",
    "print(f'被保留的特征索引：{selected_idx}')"
   ]
  },
  {
   "cell_type": "code",
   "execution_count": 209,
   "metadata": {},
   "outputs": [
    {
     "name": "stderr",
     "output_type": "stream",
     "text": [
      "d:\\python\\lib\\site-packages\\sklearn\\linear_model\\_logistic.py:460: ConvergenceWarning: lbfgs failed to converge (status=1):\n",
      "STOP: TOTAL NO. of ITERATIONS REACHED LIMIT.\n",
      "\n",
      "Increase the number of iterations (max_iter) or scale the data as shown in:\n",
      "    https://scikit-learn.org/stable/modules/preprocessing.html\n",
      "Please also refer to the documentation for alternative solver options:\n",
      "    https://scikit-learn.org/stable/modules/linear_model.html#logistic-regression\n",
      "  n_iter_i = _check_optimize_result(\n",
      "d:\\python\\lib\\site-packages\\sklearn\\linear_model\\_logistic.py:460: ConvergenceWarning: lbfgs failed to converge (status=1):\n",
      "STOP: TOTAL NO. of ITERATIONS REACHED LIMIT.\n",
      "\n",
      "Increase the number of iterations (max_iter) or scale the data as shown in:\n",
      "    https://scikit-learn.org/stable/modules/preprocessing.html\n",
      "Please also refer to the documentation for alternative solver options:\n",
      "    https://scikit-learn.org/stable/modules/linear_model.html#logistic-regression\n",
      "  n_iter_i = _check_optimize_result(\n",
      "d:\\python\\lib\\site-packages\\sklearn\\linear_model\\_logistic.py:460: ConvergenceWarning: lbfgs failed to converge (status=1):\n",
      "STOP: TOTAL NO. of ITERATIONS REACHED LIMIT.\n",
      "\n",
      "Increase the number of iterations (max_iter) or scale the data as shown in:\n",
      "    https://scikit-learn.org/stable/modules/preprocessing.html\n",
      "Please also refer to the documentation for alternative solver options:\n",
      "    https://scikit-learn.org/stable/modules/linear_model.html#logistic-regression\n",
      "  n_iter_i = _check_optimize_result(\n"
     ]
    },
    {
     "name": "stdout",
     "output_type": "stream",
     "text": [
      "被保留的特征索引：[ 0  2  5  7 12 13 14 15 16 17]\n"
     ]
    }
   ],
   "source": [
    "# 包装法判断与目标是否相关\n",
    "from sklearn.feature_selection import RFE\n",
    "from sklearn.linear_model import LogisticRegression\n",
    "selector = RFE(estimator=LogisticRegression(), n_features_to_select=10)\n",
    "selected_matrix = selector.fit_transform(matrix, train_data['Survived'])\n",
    "selected_idx = selector.get_support(indices=True)\n",
    "print(f'被保留的特征索引：{selected_idx}')"
   ]
  },
  {
   "cell_type": "code",
   "execution_count": 210,
   "metadata": {},
   "outputs": [
    {
     "name": "stdout",
     "output_type": "stream",
     "text": [
      "被保留的特征索引：[ 0  1  4 14]\n"
     ]
    }
   ],
   "source": [
    "# 嵌入法判断与目标是否相关\n",
    "from sklearn.feature_selection import SelectFromModel\n",
    "from sklearn.ensemble import GradientBoostingClassifier\n",
    "selector = SelectFromModel(estimator=GradientBoostingClassifier())\n",
    "selected_matrix = selector.fit_transform(matrix, train_data['Survived'])\n",
    "selected_idx = selector.get_support(indices=True)\n",
    "print(f'被保留的特征索引：{selected_idx}')"
   ]
  },
  {
   "cell_type": "markdown",
   "metadata": {},
   "source": [
    "### step3 特征降维\n",
    "* 观察到称谓和性别年龄、家庭大小和家庭人数兄弟姐妹数量等特征之间存在一定程度的雷同，因此选择LDA进行特征降维"
   ]
  },
  {
   "cell_type": "code",
   "execution_count": 211,
   "metadata": {},
   "outputs": [
    {
     "name": "stdout",
     "output_type": "stream",
     "text": [
      "被保留的特征索引：[[10  4  2  0 11  3 13 12  8  7 17  9 16  5 15 14  6  1]\n",
      " [ 0 14  5  9  8 17 16 12 15 13  7  3  2 11 10  6  1  4]]\n",
      "[[-25.15557504  -6.70927828]\n",
      " [ 39.33780521   7.61120879]\n",
      " [-24.38181145  -2.68524422]\n",
      " ...\n",
      " [ -8.77555689  -1.27142254]\n",
      " [ -2.26828535  -3.17451153]\n",
      " [-24.39749671   3.32776687]]\n"
     ]
    }
   ],
   "source": [
    "from sklearn.decomposition import PCA\n",
    "pca = PCA(n_components=2)\n",
    "pca.fit(matrix)\n",
    "pca_matrix = pca.transform(matrix)\n",
    "pca_matrix_idx = pca.components_.argsort()[::-1][:pca.n_components]\n",
    "print(f'被保留的特征索引：{pca_matrix_idx}')\n",
    "print(pca_matrix)"
   ]
  },
  {
   "cell_type": "code",
   "execution_count": 212,
   "metadata": {},
   "outputs": [
    {
     "name": "stdout",
     "output_type": "stream",
     "text": [
      "18\n",
      "1\n"
     ]
    }
   ],
   "source": [
    "from sklearn.discriminant_analysis import LinearDiscriminantAnalysis as LDA\n",
    "selector = LDA(n_components=1)\n",
    "selected_matrix = selector.fit_transform(feature_select, train_data['Survived'])\n",
    "print(feature_select.shape[1])\n",
    "print(selected_matrix.shape[1])"
   ]
  },
  {
   "cell_type": "markdown",
   "metadata": {},
   "source": [
    "## Ⅳ 模型构建及训练"
   ]
  },
  {
   "cell_type": "code",
   "execution_count": 213,
   "metadata": {},
   "outputs": [
    {
     "name": "stdout",
     "output_type": "stream",
     "text": [
      "     Pclass   Age  SibSp  Parch      Fare  Sex_num  Cabin_num  Embarked_C  \\\n",
      "0         3  34.5      0      0    7.8292        1          0       False   \n",
      "1         3  47.0      1      0    7.0000        0          0       False   \n",
      "2         2  62.0      0      0    9.6875        1          0       False   \n",
      "3         3  27.0      0      0    8.6625        1          0       False   \n",
      "4         3  22.0      1      1   12.2875        0          0       False   \n",
      "..      ...   ...    ...    ...       ...      ...        ...         ...   \n",
      "413       3  27.0      0      0    8.0500        1          0       False   \n",
      "414       1  39.0      0      0  108.9000        0          3        True   \n",
      "415       3  38.5      0      0    7.2500        1          0       False   \n",
      "416       3  27.0      0      0    8.0500        1          0       False   \n",
      "417       3  27.0      1      1   22.3583        1          0        True   \n",
      "\n",
      "     Embarked_Q  Embarked_S  FamilySize  FamilySizeD_num  Title_Master  \\\n",
      "0          True       False           1                1         False   \n",
      "1         False        True           2                2         False   \n",
      "2          True       False           1                1         False   \n",
      "3         False        True           1                1         False   \n",
      "4         False        True           3                2         False   \n",
      "..          ...         ...         ...              ...           ...   \n",
      "413       False        True           1                1         False   \n",
      "414       False       False           1                1         False   \n",
      "415       False        True           1                1         False   \n",
      "416       False        True           1                1         False   \n",
      "417       False       False           3                2          True   \n",
      "\n",
      "     Title_Miss  Title_Mr  Title_Mrs  Title_Officer  Title_Royalty  \n",
      "0         False      True      False          False              0  \n",
      "1         False     False       True          False              0  \n",
      "2         False      True      False          False              0  \n",
      "3         False      True      False          False              0  \n",
      "4         False     False       True          False              0  \n",
      "..          ...       ...        ...            ...            ...  \n",
      "413       False      True      False          False              0  \n",
      "414       False     False      False          False              0  \n",
      "415       False      True      False          False              0  \n",
      "416       False      True      False          False              0  \n",
      "417       False     False      False          False              0  \n",
      "\n",
      "[418 rows x 18 columns]\n"
     ]
    }
   ],
   "source": [
    "y = train_data[\"Survived\"]\n",
    "\n",
    "#features = [\"Pclass\",\"Sex\",\"SibSp\",\"Parch\"]\n",
    "X = pd.get_dummies(feature_select)\n",
    "X_test = pd.get_dummies(feature_select_test)\n",
    "\n",
    "model = RandomForestClassifier(n_estimators=100, max_depth=5, random_state=1)\n",
    "model.fit(X,y)\n",
    "print(X_test)\n",
    "predictions = model.predict(X_test)\n",
    "\n",
    "output = pd.DataFrame({'PassengerId': test_data.PassengerId, 'Survived': predictions})\n",
    "#output.to_csv('data/my_submission.csv', index=False)"
   ]
  },
  {
   "cell_type": "code",
   "execution_count": 214,
   "metadata": {},
   "outputs": [
    {
     "name": "stdout",
     "output_type": "stream",
     "text": [
      "     Pclass   Age  SibSp  Parch     Fare  Sex_num  Cabin_num  Embarked_C  \\\n",
      "15        2  55.0      0      0  16.0000        0          0       False   \n",
      "50        3   7.0      4      1  39.6875        1          0       False   \n",
      "804       3  27.0      0      0   6.9750        1          0       False   \n",
      "869       3   4.0      1      1  11.1333        1          0       False   \n",
      "93        3  26.0      1      2  20.5750        1          0       False   \n",
      "..      ...   ...    ...    ...      ...      ...        ...         ...   \n",
      "193       2   3.0      1      1  26.0000        1          6       False   \n",
      "239       2  33.0      0      0  12.2750        1          0       False   \n",
      "219       2  30.0      0      0  10.5000        1          0       False   \n",
      "431       3  28.0      1      0  16.1000        0          0       False   \n",
      "83        1  28.0      0      0  47.1000        1          0       False   \n",
      "\n",
      "     Embarked_Q  Embarked_S  FamilySize  FamilySizeD_num  Title_Master  \\\n",
      "15        False        True           1                1         False   \n",
      "50        False        True           6                3          True   \n",
      "804       False        True           1                1         False   \n",
      "869       False        True           3                2          True   \n",
      "93        False        True           4                2         False   \n",
      "..          ...         ...         ...              ...           ...   \n",
      "193       False        True           3                2          True   \n",
      "239       False        True           1                1         False   \n",
      "219       False        True           1                1         False   \n",
      "431       False        True           2                2         False   \n",
      "83        False        True           1                1         False   \n",
      "\n",
      "     Title_Miss  Title_Mr  Title_Mrs  Title_Officer  Title_Royalty  \n",
      "15        False     False       True          False          False  \n",
      "50        False     False      False          False          False  \n",
      "804       False      True      False          False          False  \n",
      "869       False     False      False          False          False  \n",
      "93        False      True      False          False          False  \n",
      "..          ...       ...        ...            ...            ...  \n",
      "193       False     False      False          False          False  \n",
      "239       False      True      False          False          False  \n",
      "219       False      True      False          False          False  \n",
      "431       False     False       True          False          False  \n",
      "83        False      True      False          False          False  \n",
      "\n",
      "[668 rows x 18 columns] 15     1\n",
      "50     0\n",
      "804    1\n",
      "869    1\n",
      "93     0\n",
      "      ..\n",
      "193    1\n",
      "239    0\n",
      "219    0\n",
      "431    1\n",
      "83     0\n",
      "Name: Survived, Length: 668, dtype: int64 \n",
      "\n",
      "     Pclass   Age  SibSp  Parch      Fare  Sex_num  Cabin_num  Embarked_C  \\\n",
      "823       3  27.0      0      1   12.4750        0          5       False   \n",
      "598       3  28.0      0      0    7.2250        1          0        True   \n",
      "307       1  17.0      1      0  108.9000        0          3        True   \n",
      "871       1  47.0      1      1   52.5542        0          4       False   \n",
      "743       3  24.0      1      0   16.1000        1          0       False   \n",
      "..      ...   ...    ...    ...       ...      ...        ...         ...   \n",
      "204       3  18.0      0      0    8.0500        1          0       False   \n",
      "854       2  44.0      1      0   26.0000        0          0       False   \n",
      "77        3  28.0      0      0    8.0500        1          0       False   \n",
      "397       2  46.0      0      0   26.0000        1          0       False   \n",
      "886       2  27.0      0      0   13.0000        1          0       False   \n",
      "\n",
      "     Embarked_Q  Embarked_S  FamilySize  FamilySizeD_num  Title_Master  \\\n",
      "823       False        True           2                2         False   \n",
      "598       False       False           1                1         False   \n",
      "307       False       False           2                2         False   \n",
      "871       False        True           3                2         False   \n",
      "743       False        True           2                2         False   \n",
      "..          ...         ...         ...              ...           ...   \n",
      "204       False        True           1                1         False   \n",
      "854       False        True           2                2         False   \n",
      "77        False        True           1                1         False   \n",
      "397       False        True           1                1         False   \n",
      "886       False        True           1                1         False   \n",
      "\n",
      "     Title_Miss  Title_Mr  Title_Mrs  Title_Officer  Title_Royalty  \n",
      "823       False     False       True          False          False  \n",
      "598       False      True      False          False          False  \n",
      "307       False     False       True          False          False  \n",
      "871       False     False       True          False          False  \n",
      "743       False      True      False          False          False  \n",
      "..          ...       ...        ...            ...            ...  \n",
      "204       False      True      False          False          False  \n",
      "854       False     False       True          False          False  \n",
      "77        False      True      False          False          False  \n",
      "397       False      True      False          False          False  \n",
      "886       False     False      False           True          False  \n",
      "\n",
      "[223 rows x 18 columns] 823    1\n",
      "598    0\n",
      "307    1\n",
      "871    1\n",
      "743    0\n",
      "      ..\n",
      "204    1\n",
      "854    0\n",
      "77     0\n",
      "397    0\n",
      "886    0\n",
      "Name: Survived, Length: 223, dtype: int64\n"
     ]
    }
   ],
   "source": [
    "from sklearn.model_selection import train_test_split\n",
    "train_x, test_x, train_y, test_y = train_test_split(feature_select, train_data['Survived'])\n",
    "print(train_x, train_y, '\\n')\n",
    "print(test_x, test_y)"
   ]
  },
  {
   "cell_type": "code",
   "execution_count": 215,
   "metadata": {},
   "outputs": [
    {
     "name": "stdout",
     "output_type": "stream",
     "text": [
      "intercept:  1.53\n",
      "coef:  [-1.32532946e-01 -3.49875972e-03 -2.02941190e-02 -4.10830324e-03\n",
      "  1.64636558e-04 -5.93233098e-01  2.01520069e-02  3.56347772e-02\n",
      "  1.44652248e-03 -3.70812997e-02 -2.44024223e-02 -6.45833113e-02\n",
      "  3.21890326e-01 -2.79533199e-01 -2.16442582e-01 -1.34510063e-01\n",
      " -1.88276822e-01  4.96872340e-01]\n"
     ]
    },
    {
     "data": {
      "text/plain": [
       "0.39167277597992023"
      ]
     },
     "execution_count": 215,
     "metadata": {},
     "output_type": "execute_result"
    }
   ],
   "source": [
    "from sklearn import linear_model\n",
    "lin_reg = linear_model.LinearRegression()\n",
    "log_reg = linear_model.LogisticRegression()\n",
    "\n",
    "lin_reg.fit(train_x, train_y)\n",
    "print(f'intercept: {lin_reg.intercept_: .2f}')\n",
    "print('coef: ',lin_reg.coef_)\n",
    "\n",
    "test_predict = lin_reg.predict(test_x)\n",
    "lin_reg.score(test_x, test_y)\n"
   ]
  },
  {
   "cell_type": "code",
   "execution_count": 216,
   "metadata": {},
   "outputs": [
    {
     "name": "stderr",
     "output_type": "stream",
     "text": [
      "d:\\python\\lib\\site-packages\\sklearn\\linear_model\\_logistic.py:460: ConvergenceWarning: lbfgs failed to converge (status=1):\n",
      "STOP: TOTAL NO. of ITERATIONS REACHED LIMIT.\n",
      "\n",
      "Increase the number of iterations (max_iter) or scale the data as shown in:\n",
      "    https://scikit-learn.org/stable/modules/preprocessing.html\n",
      "Please also refer to the documentation for alternative solver options:\n",
      "    https://scikit-learn.org/stable/modules/linear_model.html#logistic-regression\n",
      "  n_iter_i = _check_optimize_result(\n"
     ]
    }
   ],
   "source": [
    "log_reg.fit(train_x, train_y)\n",
    "#print('intercept:', log_reg.intercept_)\n",
    "#print('coef: ',log_reg.coef_)\n",
    "\n",
    "test_predict = log_reg.predict(test_x)\n",
    "log_reg = log_reg.score(test_x, test_y)"
   ]
  },
  {
   "cell_type": "code",
   "execution_count": 217,
   "metadata": {},
   "outputs": [
    {
     "data": {
      "text/plain": [
       "0.7623318385650224"
      ]
     },
     "execution_count": 217,
     "metadata": {},
     "output_type": "execute_result"
    }
   ],
   "source": [
    "from sklearn.tree import DecisionTreeClassifier\n",
    "from sklearn.svm import LinearSVC\n",
    "\n",
    "decision_tree_classifier = DecisionTreeClassifier(criterion=\"entropy\")  #使用信息熵增益\n",
    "scv = LinearSVC()\n",
    "\n",
    "dcTree = decision_tree_classifier.fit(train_x, train_y)\n",
    "test_predict = decision_tree_classifier.predict(test_x)\n",
    "decision_tree_classifier.score(test_x, test_y)"
   ]
  },
  {
   "cell_type": "code",
   "execution_count": 218,
   "metadata": {},
   "outputs": [
    {
     "name": "stderr",
     "output_type": "stream",
     "text": [
      "d:\\python\\lib\\site-packages\\sklearn\\svm\\_classes.py:32: FutureWarning: The default value of `dual` will change from `True` to `'auto'` in 1.5. Set the value of `dual` explicitly to suppress the warning.\n",
      "  warnings.warn(\n",
      "d:\\python\\lib\\site-packages\\sklearn\\svm\\_base.py:1250: ConvergenceWarning: Liblinear failed to converge, increase the number of iterations.\n",
      "  warnings.warn(\n"
     ]
    },
    {
     "data": {
      "text/plain": [
       "0.8026905829596412"
      ]
     },
     "execution_count": 218,
     "metadata": {},
     "output_type": "execute_result"
    }
   ],
   "source": [
    "Lscv = scv.fit(train_x, train_y)\n",
    "test_predict = scv.predict(test_x)\n",
    "\n",
    "scv.score(test_x, test_y)"
   ]
  }
 ],
 "metadata": {
  "kernelspec": {
   "display_name": "Python 3",
   "language": "python",
   "name": "python3"
  },
  "language_info": {
   "codemirror_mode": {
    "name": "ipython",
    "version": 3
   },
   "file_extension": ".py",
   "mimetype": "text/x-python",
   "name": "python",
   "nbconvert_exporter": "python",
   "pygments_lexer": "ipython3",
   "version": "3.10.3"
  }
 },
 "nbformat": 4,
 "nbformat_minor": 2
}
